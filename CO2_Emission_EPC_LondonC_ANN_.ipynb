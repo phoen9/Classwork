{
  "nbformat": 4,
  "nbformat_minor": 0,
  "metadata": {
    "colab": {
      "name": "CO2_Emission_EPC_LondonC_ANN_.ipynb",
      "provenance": [],
      "collapsed_sections": [],
      "authorship_tag": "ABX9TyNWDe4xop0yzcKzj6gw/IDt",
      "include_colab_link": true
    },
    "kernelspec": {
      "name": "python3",
      "display_name": "Python 3"
    },
    "language_info": {
      "name": "python"
    },
    "widgets": {
      "application/vnd.jupyter.widget-state+json": {
        "19a5bd33c80e4bb1928ad2f6ffd8bd91": {
          "model_module": "@jupyter-widgets/controls",
          "model_name": "VBoxModel",
          "model_module_version": "1.5.0",
          "state": {
            "_view_name": "VBoxView",
            "_dom_classes": [],
            "_model_name": "VBoxModel",
            "_view_module": "@jupyter-widgets/controls",
            "_model_module_version": "1.5.0",
            "_view_count": null,
            "_view_module_version": "1.5.0",
            "box_style": "",
            "layout": "IPY_MODEL_cdd640c25e8f4bfcaba0c28fe15fed54",
            "_model_module": "@jupyter-widgets/controls",
            "children": [
              "IPY_MODEL_7c6089fbef5c4ab0a2b3d422c55d13c2",
              "IPY_MODEL_051c67077e25450b899390b19ba7cf8f"
            ]
          }
        },
        "cdd640c25e8f4bfcaba0c28fe15fed54": {
          "model_module": "@jupyter-widgets/base",
          "model_name": "LayoutModel",
          "model_module_version": "1.2.0",
          "state": {
            "_view_name": "LayoutView",
            "grid_template_rows": null,
            "right": null,
            "justify_content": null,
            "_view_module": "@jupyter-widgets/base",
            "overflow": null,
            "_model_module_version": "1.2.0",
            "_view_count": null,
            "flex_flow": null,
            "width": null,
            "min_width": null,
            "border": null,
            "align_items": null,
            "bottom": null,
            "_model_module": "@jupyter-widgets/base",
            "top": null,
            "grid_column": null,
            "overflow_y": null,
            "overflow_x": null,
            "grid_auto_flow": null,
            "grid_area": null,
            "grid_template_columns": null,
            "flex": null,
            "_model_name": "LayoutModel",
            "justify_items": null,
            "grid_row": null,
            "max_height": null,
            "align_content": null,
            "visibility": null,
            "align_self": null,
            "height": null,
            "min_height": null,
            "padding": null,
            "grid_auto_rows": null,
            "grid_gap": null,
            "max_width": null,
            "order": null,
            "_view_module_version": "1.2.0",
            "grid_template_areas": null,
            "object_position": null,
            "object_fit": null,
            "grid_auto_columns": null,
            "margin": null,
            "display": null,
            "left": null
          }
        },
        "7c6089fbef5c4ab0a2b3d422c55d13c2": {
          "model_module": "@jupyter-widgets/controls",
          "model_name": "LabelModel",
          "model_module_version": "1.5.0",
          "state": {
            "_view_name": "LabelView",
            "style": "IPY_MODEL_359cbe26a95f49479e0acc3cc1f9bc40",
            "_dom_classes": [],
            "description": "",
            "_model_name": "LabelModel",
            "placeholder": "​",
            "_view_module": "@jupyter-widgets/controls",
            "_model_module_version": "1.5.0",
            "value": " 0.02MB of 0.02MB uploaded (0.00MB deduped)\r",
            "_view_count": null,
            "_view_module_version": "1.5.0",
            "description_tooltip": null,
            "_model_module": "@jupyter-widgets/controls",
            "layout": "IPY_MODEL_d5af7518df314aebb36db57e51273515"
          }
        },
        "051c67077e25450b899390b19ba7cf8f": {
          "model_module": "@jupyter-widgets/controls",
          "model_name": "FloatProgressModel",
          "model_module_version": "1.5.0",
          "state": {
            "_view_name": "ProgressView",
            "style": "IPY_MODEL_2dc9b995a32a4930b2b14d304ffc82c0",
            "_dom_classes": [],
            "description": "",
            "_model_name": "FloatProgressModel",
            "bar_style": "",
            "max": 1,
            "_view_module": "@jupyter-widgets/controls",
            "_model_module_version": "1.5.0",
            "value": 1,
            "_view_count": null,
            "_view_module_version": "1.5.0",
            "orientation": "horizontal",
            "min": 0,
            "description_tooltip": null,
            "_model_module": "@jupyter-widgets/controls",
            "layout": "IPY_MODEL_3245111d3bc2471fb89901c475c597ae"
          }
        },
        "359cbe26a95f49479e0acc3cc1f9bc40": {
          "model_module": "@jupyter-widgets/controls",
          "model_name": "DescriptionStyleModel",
          "model_module_version": "1.5.0",
          "state": {
            "_view_name": "StyleView",
            "_model_name": "DescriptionStyleModel",
            "description_width": "",
            "_view_module": "@jupyter-widgets/base",
            "_model_module_version": "1.5.0",
            "_view_count": null,
            "_view_module_version": "1.2.0",
            "_model_module": "@jupyter-widgets/controls"
          }
        },
        "d5af7518df314aebb36db57e51273515": {
          "model_module": "@jupyter-widgets/base",
          "model_name": "LayoutModel",
          "model_module_version": "1.2.0",
          "state": {
            "_view_name": "LayoutView",
            "grid_template_rows": null,
            "right": null,
            "justify_content": null,
            "_view_module": "@jupyter-widgets/base",
            "overflow": null,
            "_model_module_version": "1.2.0",
            "_view_count": null,
            "flex_flow": null,
            "width": null,
            "min_width": null,
            "border": null,
            "align_items": null,
            "bottom": null,
            "_model_module": "@jupyter-widgets/base",
            "top": null,
            "grid_column": null,
            "overflow_y": null,
            "overflow_x": null,
            "grid_auto_flow": null,
            "grid_area": null,
            "grid_template_columns": null,
            "flex": null,
            "_model_name": "LayoutModel",
            "justify_items": null,
            "grid_row": null,
            "max_height": null,
            "align_content": null,
            "visibility": null,
            "align_self": null,
            "height": null,
            "min_height": null,
            "padding": null,
            "grid_auto_rows": null,
            "grid_gap": null,
            "max_width": null,
            "order": null,
            "_view_module_version": "1.2.0",
            "grid_template_areas": null,
            "object_position": null,
            "object_fit": null,
            "grid_auto_columns": null,
            "margin": null,
            "display": null,
            "left": null
          }
        },
        "2dc9b995a32a4930b2b14d304ffc82c0": {
          "model_module": "@jupyter-widgets/controls",
          "model_name": "ProgressStyleModel",
          "model_module_version": "1.5.0",
          "state": {
            "_view_name": "StyleView",
            "_model_name": "ProgressStyleModel",
            "description_width": "",
            "_view_module": "@jupyter-widgets/base",
            "_model_module_version": "1.5.0",
            "_view_count": null,
            "_view_module_version": "1.2.0",
            "bar_color": null,
            "_model_module": "@jupyter-widgets/controls"
          }
        },
        "3245111d3bc2471fb89901c475c597ae": {
          "model_module": "@jupyter-widgets/base",
          "model_name": "LayoutModel",
          "model_module_version": "1.2.0",
          "state": {
            "_view_name": "LayoutView",
            "grid_template_rows": null,
            "right": null,
            "justify_content": null,
            "_view_module": "@jupyter-widgets/base",
            "overflow": null,
            "_model_module_version": "1.2.0",
            "_view_count": null,
            "flex_flow": null,
            "width": null,
            "min_width": null,
            "border": null,
            "align_items": null,
            "bottom": null,
            "_model_module": "@jupyter-widgets/base",
            "top": null,
            "grid_column": null,
            "overflow_y": null,
            "overflow_x": null,
            "grid_auto_flow": null,
            "grid_area": null,
            "grid_template_columns": null,
            "flex": null,
            "_model_name": "LayoutModel",
            "justify_items": null,
            "grid_row": null,
            "max_height": null,
            "align_content": null,
            "visibility": null,
            "align_self": null,
            "height": null,
            "min_height": null,
            "padding": null,
            "grid_auto_rows": null,
            "grid_gap": null,
            "max_width": null,
            "order": null,
            "_view_module_version": "1.2.0",
            "grid_template_areas": null,
            "object_position": null,
            "object_fit": null,
            "grid_auto_columns": null,
            "margin": null,
            "display": null,
            "left": null
          }
        }
      }
    }
  },
  "cells": [
    {
      "cell_type": "markdown",
      "metadata": {
        "id": "view-in-github",
        "colab_type": "text"
      },
      "source": [
        "<a href=\"https://colab.research.google.com/github/phoen9/Classwork/blob/main/CO2_Emission_EPC_LondonC_ANN_.ipynb\" target=\"_parent\"><img src=\"https://colab.research.google.com/assets/colab-badge.svg\" alt=\"Open In Colab\"/></a>"
      ]
    },
    {
      "cell_type": "markdown",
      "metadata": {
        "id": "ltGCAr6sFmP5"
      },
      "source": [
        "\n",
        "**Use the right version of Tensor flow**"
      ]
    },
    {
      "cell_type": "code",
      "metadata": {
        "id": "B1PxkaJjFeVT"
      },
      "source": [
        "#@title Run on TensorFlow 2.x\n",
        "%tensorflow_version 2.x\n",
        "from __future__ import absolute_import, division, print_function, unicode_literals"
      ],
      "execution_count": null,
      "outputs": []
    },
    {
      "cell_type": "code",
      "metadata": {
        "id": "Xvxmztv8hbtS"
      },
      "source": [
        "!pip install wandb -qqq\n",
        "import wandb"
      ],
      "execution_count": null,
      "outputs": []
    },
    {
      "cell_type": "markdown",
      "metadata": {
        "id": "B1-PgJV2FlDq"
      },
      "source": [
        "**Import relevant modules**"
      ]
    },
    {
      "cell_type": "code",
      "metadata": {
        "colab": {
          "base_uri": "https://localhost:8080/"
        },
        "id": "MqreXafNIiOX",
        "outputId": "918c0aa7-5ede-4056-931e-96f0a0d6869f"
      },
      "source": [
        "#@title Import relevant modules\n",
        "import numpy as np\n",
        "import pandas as pd\n",
        "import tensorflow as tf\n",
        "\n",
        "from tensorflow import feature_column\n",
        "from tensorflow.keras import layers\n",
        "from matplotlib import pyplot as plt\n",
        "import seaborn as sns\n",
        "\n",
        "# The following lines adjust the granularity of reporting. \n",
        "pd.options.display.max_rows = 10\n",
        "pd.options.display.float_format = \"{:.1f}\".format\n",
        "\n",
        "print(\"Imported modules.\")"
      ],
      "execution_count": null,
      "outputs": [
        {
          "output_type": "stream",
          "name": "stdout",
          "text": [
            "Imported modules.\n"
          ]
        }
      ]
    },
    {
      "cell_type": "code",
      "metadata": {
        "id": "9-XEa4Hrle7Y"
      },
      "source": [
        "from tensorflow.keras.callbacks import Callback\n",
        "from wandb.keras import WandbCallback\n",
        "import random\n",
        "import math\n"
      ],
      "execution_count": null,
      "outputs": []
    },
    {
      "cell_type": "markdown",
      "metadata": {
        "id": "FqMEmnJaJSpA"
      },
      "source": [
        "**Allow access to files on google drive**"
      ]
    },
    {
      "cell_type": "code",
      "metadata": {
        "colab": {
          "base_uri": "https://localhost:8080/"
        },
        "id": "CAPogIe8JT04",
        "outputId": "6541b64a-f58e-4461-fd5c-84d4f72f1ed6"
      },
      "source": [
        "from google.colab import drive\n",
        "drive.mount('/content/drive')"
      ],
      "execution_count": null,
      "outputs": [
        {
          "output_type": "stream",
          "name": "stdout",
          "text": [
            "Drive already mounted at /content/drive; to attempt to forcibly remount, call drive.mount(\"/content/drive\", force_remount=True).\n"
          ]
        }
      ]
    },
    {
      "cell_type": "code",
      "metadata": {
        "colab": {
          "base_uri": "https://localhost:8080/"
        },
        "id": "bHLFYRsuhlc1",
        "outputId": "dd1b1293-89a7-443f-af22-e0592286b709"
      },
      "source": [
        "# Log in to your W&B account\n",
        "wandb.login()"
      ],
      "execution_count": null,
      "outputs": [
        {
          "output_type": "stream",
          "name": "stderr",
          "text": [
            "\u001b[34m\u001b[1mwandb\u001b[0m: Currently logged in as: \u001b[33messienai\u001b[0m (use `wandb login --relogin` to force relogin)\n"
          ]
        },
        {
          "output_type": "execute_result",
          "data": {
            "text/plain": [
              "True"
            ]
          },
          "metadata": {},
          "execution_count": 6
        }
      ]
    },
    {
      "cell_type": "markdown",
      "metadata": {
        "id": "oZAk7rckKY00"
      },
      "source": [
        "**Load the Dataset**"
      ]
    },
    {
      "cell_type": "code",
      "metadata": {
        "id": "GnrDuRyGKfAo"
      },
      "source": [
        "Data=pd.read_csv('/content/drive/My Drive/EPC_Londonc.csv') #to load data from my google drive"
      ],
      "execution_count": null,
      "outputs": []
    },
    {
      "cell_type": "code",
      "metadata": {
        "colab": {
          "base_uri": "https://localhost:8080/"
        },
        "id": "VPrjJr9sKxzo",
        "outputId": "27b2d3eb-c61e-476d-bc15-7c06e1facad4"
      },
      "source": [
        "training_data = Data.sample(frac=0.8, random_state=25)\n",
        "testing_data = Data.drop(training_data.index)\n",
        "\n",
        "print(f\"No. of training examples: {training_data.shape[0]}\")\n",
        "print(f\"No. of testing examples: {testing_data.shape[0]}\")"
      ],
      "execution_count": null,
      "outputs": [
        {
          "output_type": "stream",
          "name": "stdout",
          "text": [
            "No. of training examples: 443215\n",
            "No. of testing examples: 110804\n"
          ]
        }
      ]
    },
    {
      "cell_type": "code",
      "metadata": {
        "colab": {
          "base_uri": "https://localhost:8080/",
          "height": 445
        },
        "id": "TAKb2m8QRvMn",
        "outputId": "278ed663-b508-44eb-d9e7-208c86ba3327"
      },
      "source": [
        "training_data.head()"
      ],
      "execution_count": null,
      "outputs": [
        {
          "output_type": "execute_result",
          "data": {
            "text/html": [
              "<div>\n",
              "<style scoped>\n",
              "    .dataframe tbody tr th:only-of-type {\n",
              "        vertical-align: middle;\n",
              "    }\n",
              "\n",
              "    .dataframe tbody tr th {\n",
              "        vertical-align: top;\n",
              "    }\n",
              "\n",
              "    .dataframe thead th {\n",
              "        text-align: right;\n",
              "    }\n",
              "</style>\n",
              "<table border=\"1\" class=\"dataframe\">\n",
              "  <thead>\n",
              "    <tr style=\"text-align: right;\">\n",
              "      <th></th>\n",
              "      <th>CURRENT_ENERGY_RATING</th>\n",
              "      <th>PROPERTY_TYPE</th>\n",
              "      <th>BUILT_FORM</th>\n",
              "      <th>ENVIRONMENT_IMPACT_CURRENT</th>\n",
              "      <th>ENERGY_CONSUMPTION_CURRENT</th>\n",
              "      <th>CO2_EMISSIONS_CURRENT</th>\n",
              "      <th>TOTAL_FLOOR_AREA</th>\n",
              "      <th>MAINS_GAS_FLAG</th>\n",
              "      <th>GLAZED_AREA</th>\n",
              "      <th>FLOOR_DESCRIPTION</th>\n",
              "      <th>WINDOWS_DESCRIPTION</th>\n",
              "      <th>WINDOWS_ENERGY_EFF</th>\n",
              "      <th>WALLS_DESCRIPTION</th>\n",
              "      <th>WALLS_ENERGY_EFF</th>\n",
              "      <th>ROOF_DESCRIPTION</th>\n",
              "      <th>MAIN_FUEL</th>\n",
              "      <th>FLOOR_HEIGHT</th>\n",
              "      <th>VOLUME</th>\n",
              "      <th>MECHANICAL_VENTILATION</th>\n",
              "      <th>CONSTRUCTION_AGE_BAND</th>\n",
              "    </tr>\n",
              "  </thead>\n",
              "  <tbody>\n",
              "    <tr>\n",
              "      <th>35080</th>\n",
              "      <td>C</td>\n",
              "      <td>House</td>\n",
              "      <td>Mid-Terrace</td>\n",
              "      <td>69</td>\n",
              "      <td>164</td>\n",
              "      <td>4.0</td>\n",
              "      <td>126.4</td>\n",
              "      <td>Y</td>\n",
              "      <td>Normal</td>\n",
              "      <td>Solid, no insulation (assumed)</td>\n",
              "      <td>Fully double glazed</td>\n",
              "      <td>Average</td>\n",
              "      <td>Cavity wall, as built, partial insulation (ass...</td>\n",
              "      <td>Average</td>\n",
              "      <td>Pitched, 100 mm loft insulation</td>\n",
              "      <td>mains gas (not community)</td>\n",
              "      <td>2.3</td>\n",
              "      <td>289.4</td>\n",
              "      <td>natural</td>\n",
              "      <td>F</td>\n",
              "    </tr>\n",
              "    <tr>\n",
              "      <th>194484</th>\n",
              "      <td>C</td>\n",
              "      <td>Maisonette</td>\n",
              "      <td>Detached</td>\n",
              "      <td>70</td>\n",
              "      <td>217</td>\n",
              "      <td>2.7</td>\n",
              "      <td>75.1</td>\n",
              "      <td>Y</td>\n",
              "      <td>Normal</td>\n",
              "      <td>(other premises below)</td>\n",
              "      <td>Fully double glazed</td>\n",
              "      <td>Average</td>\n",
              "      <td>System built, as built, no insulation (assumed)</td>\n",
              "      <td>Very Poor</td>\n",
              "      <td>Pitched, 200mm loft insulation</td>\n",
              "      <td>mains gas - this is for backwards compatibilit...</td>\n",
              "      <td>2.4</td>\n",
              "      <td>180.2</td>\n",
              "      <td>natural</td>\n",
              "      <td>E</td>\n",
              "    </tr>\n",
              "    <tr>\n",
              "      <th>397850</th>\n",
              "      <td>D</td>\n",
              "      <td>Flat</td>\n",
              "      <td>Detached</td>\n",
              "      <td>53</td>\n",
              "      <td>307</td>\n",
              "      <td>4.0</td>\n",
              "      <td>67.7</td>\n",
              "      <td>Y</td>\n",
              "      <td>Normal</td>\n",
              "      <td>(other premises below)</td>\n",
              "      <td>Fully double glazed</td>\n",
              "      <td>Good</td>\n",
              "      <td>Solid brick, as built, no insulation (assumed)</td>\n",
              "      <td>Very Poor</td>\n",
              "      <td>Pitched, no insulation(assumed)</td>\n",
              "      <td>mains gas (not community)</td>\n",
              "      <td>2.6</td>\n",
              "      <td>176.0</td>\n",
              "      <td>natural</td>\n",
              "      <td>B</td>\n",
              "    </tr>\n",
              "    <tr>\n",
              "      <th>299929</th>\n",
              "      <td>F</td>\n",
              "      <td>Flat</td>\n",
              "      <td>Detached</td>\n",
              "      <td>26</td>\n",
              "      <td>972</td>\n",
              "      <td>5.7</td>\n",
              "      <td>38.7</td>\n",
              "      <td>N</td>\n",
              "      <td>Normal</td>\n",
              "      <td>Solid, no insulation (assumed)</td>\n",
              "      <td>Some double glazing</td>\n",
              "      <td>Poor</td>\n",
              "      <td>Solid brick, as built, no insulation (assumed)</td>\n",
              "      <td>Very Poor</td>\n",
              "      <td>(another dwelling above)</td>\n",
              "      <td>electricity - this is for backwards compatibil...</td>\n",
              "      <td>2.5</td>\n",
              "      <td>96.8</td>\n",
              "      <td>natural</td>\n",
              "      <td>B</td>\n",
              "    </tr>\n",
              "    <tr>\n",
              "      <th>163219</th>\n",
              "      <td>C</td>\n",
              "      <td>Flat</td>\n",
              "      <td>Mid-Terrace</td>\n",
              "      <td>77</td>\n",
              "      <td>201</td>\n",
              "      <td>1.6</td>\n",
              "      <td>46.8</td>\n",
              "      <td>Y</td>\n",
              "      <td>Normal</td>\n",
              "      <td>(other premises below)</td>\n",
              "      <td>Fully double glazed</td>\n",
              "      <td>Average</td>\n",
              "      <td>Solid brick, as built, no insulation (assumed)</td>\n",
              "      <td>Very Poor</td>\n",
              "      <td>(another dwelling above)</td>\n",
              "      <td>mains gas - this is for backwards compatibilit...</td>\n",
              "      <td>2.4</td>\n",
              "      <td>112.3</td>\n",
              "      <td>natural</td>\n",
              "      <td>C</td>\n",
              "    </tr>\n",
              "  </tbody>\n",
              "</table>\n",
              "</div>"
            ],
            "text/plain": [
              "       CURRENT_ENERGY_RATING  ... CONSTRUCTION_AGE_BAND\n",
              "35080                      C  ...                     F\n",
              "194484                     C  ...                     E\n",
              "397850                     D  ...                     B\n",
              "299929                     F  ...                     B\n",
              "163219                     C  ...                     C\n",
              "\n",
              "[5 rows x 20 columns]"
            ]
          },
          "metadata": {},
          "execution_count": 9
        }
      ]
    },
    {
      "cell_type": "code",
      "metadata": {
        "colab": {
          "base_uri": "https://localhost:8080/",
          "height": 204
        },
        "id": "eRGgsI9yRw0n",
        "outputId": "d67e55a0-dc99-418d-f2ac-2a45c17ee2d3"
      },
      "source": [
        "train_df=training_data[['ENVIRONMENT_IMPACT_CURRENT','ENERGY_CONSUMPTION_CURRENT','CO2_EMISSIONS_CURRENT','TOTAL_FLOOR_AREA','FLOOR_HEIGHT','VOLUME']]\n",
        "test_df=testing_data[['ENVIRONMENT_IMPACT_CURRENT','ENERGY_CONSUMPTION_CURRENT','CO2_EMISSIONS_CURRENT','TOTAL_FLOOR_AREA','FLOOR_HEIGHT','VOLUME']]\n",
        "train_df_cat=training_data[['CURRENT_ENERGY_RATING','PROPERTY_TYPE','BUILT_FORM','MAINS_GAS_FLAG','GLAZED_AREA','WINDOWS_ENERGY_EFF','WALLS_ENERGY_EFF','MAIN_FUEL','MECHANICAL_VENTILATION','CONSTRUCTION_AGE_BAND']]\n",
        "test_df_cat=testing_data[['CURRENT_ENERGY_RATING','PROPERTY_TYPE','BUILT_FORM','MAINS_GAS_FLAG','GLAZED_AREA','WINDOWS_ENERGY_EFF','WALLS_ENERGY_EFF','MAIN_FUEL','MECHANICAL_VENTILATION','CONSTRUCTION_AGE_BAND']]\n",
        "train_df.head()"
      ],
      "execution_count": null,
      "outputs": [
        {
          "output_type": "execute_result",
          "data": {
            "text/html": [
              "<div>\n",
              "<style scoped>\n",
              "    .dataframe tbody tr th:only-of-type {\n",
              "        vertical-align: middle;\n",
              "    }\n",
              "\n",
              "    .dataframe tbody tr th {\n",
              "        vertical-align: top;\n",
              "    }\n",
              "\n",
              "    .dataframe thead th {\n",
              "        text-align: right;\n",
              "    }\n",
              "</style>\n",
              "<table border=\"1\" class=\"dataframe\">\n",
              "  <thead>\n",
              "    <tr style=\"text-align: right;\">\n",
              "      <th></th>\n",
              "      <th>ENVIRONMENT_IMPACT_CURRENT</th>\n",
              "      <th>ENERGY_CONSUMPTION_CURRENT</th>\n",
              "      <th>CO2_EMISSIONS_CURRENT</th>\n",
              "      <th>TOTAL_FLOOR_AREA</th>\n",
              "      <th>FLOOR_HEIGHT</th>\n",
              "      <th>VOLUME</th>\n",
              "    </tr>\n",
              "  </thead>\n",
              "  <tbody>\n",
              "    <tr>\n",
              "      <th>35080</th>\n",
              "      <td>69</td>\n",
              "      <td>164</td>\n",
              "      <td>4.0</td>\n",
              "      <td>126.4</td>\n",
              "      <td>2.3</td>\n",
              "      <td>289.4</td>\n",
              "    </tr>\n",
              "    <tr>\n",
              "      <th>194484</th>\n",
              "      <td>70</td>\n",
              "      <td>217</td>\n",
              "      <td>2.7</td>\n",
              "      <td>75.1</td>\n",
              "      <td>2.4</td>\n",
              "      <td>180.2</td>\n",
              "    </tr>\n",
              "    <tr>\n",
              "      <th>397850</th>\n",
              "      <td>53</td>\n",
              "      <td>307</td>\n",
              "      <td>4.0</td>\n",
              "      <td>67.7</td>\n",
              "      <td>2.6</td>\n",
              "      <td>176.0</td>\n",
              "    </tr>\n",
              "    <tr>\n",
              "      <th>299929</th>\n",
              "      <td>26</td>\n",
              "      <td>972</td>\n",
              "      <td>5.7</td>\n",
              "      <td>38.7</td>\n",
              "      <td>2.5</td>\n",
              "      <td>96.8</td>\n",
              "    </tr>\n",
              "    <tr>\n",
              "      <th>163219</th>\n",
              "      <td>77</td>\n",
              "      <td>201</td>\n",
              "      <td>1.6</td>\n",
              "      <td>46.8</td>\n",
              "      <td>2.4</td>\n",
              "      <td>112.3</td>\n",
              "    </tr>\n",
              "  </tbody>\n",
              "</table>\n",
              "</div>"
            ],
            "text/plain": [
              "        ENVIRONMENT_IMPACT_CURRENT  ...  VOLUME\n",
              "35080                           69  ...   289.4\n",
              "194484                          70  ...   180.2\n",
              "397850                          53  ...   176.0\n",
              "299929                          26  ...    96.8\n",
              "163219                          77  ...   112.3\n",
              "\n",
              "[5 rows x 6 columns]"
            ]
          },
          "metadata": {},
          "execution_count": 10
        }
      ]
    },
    {
      "cell_type": "markdown",
      "metadata": {
        "id": "A94a4lrwSNyj"
      },
      "source": [
        "**Normalize the Values**"
      ]
    },
    {
      "cell_type": "code",
      "metadata": {
        "colab": {
          "base_uri": "https://localhost:8080/"
        },
        "id": "50GH5INqSKxf",
        "outputId": "3bdfe8e0-b3c6-49a0-a6aa-d2503ba62219"
      },
      "source": [
        "#@title Convert raw values to their Z-scores \n",
        "\n",
        "# Calculate the Z-scores of each column in the training set:\n",
        "train_df_mean = train_df.mean()\n",
        "train_df_std = train_df.std()\n",
        "train_df_norm = (train_df - train_df_mean)/train_df_std\n",
        "\n",
        "# Calculate the Z-scores of each column in the test set.\n",
        "test_df_mean = test_df.mean()\n",
        "test_df_std = test_df.std()\n",
        "test_df_norm = (test_df - test_df_mean)/test_df_std\n",
        "\n",
        "print(\"Normalized the values.\")"
      ],
      "execution_count": null,
      "outputs": [
        {
          "output_type": "stream",
          "name": "stdout",
          "text": [
            "Normalized the values.\n"
          ]
        }
      ]
    },
    {
      "cell_type": "code",
      "metadata": {
        "colab": {
          "base_uri": "https://localhost:8080/",
          "height": 204
        },
        "id": "Dj3ijrHQSZIG",
        "outputId": "74b99b1f-98b7-4d58-d1e9-c06ccc9d1d65"
      },
      "source": [
        "train_df_norm.head()"
      ],
      "execution_count": null,
      "outputs": [
        {
          "output_type": "execute_result",
          "data": {
            "text/html": [
              "<div>\n",
              "<style scoped>\n",
              "    .dataframe tbody tr th:only-of-type {\n",
              "        vertical-align: middle;\n",
              "    }\n",
              "\n",
              "    .dataframe tbody tr th {\n",
              "        vertical-align: top;\n",
              "    }\n",
              "\n",
              "    .dataframe thead th {\n",
              "        text-align: right;\n",
              "    }\n",
              "</style>\n",
              "<table border=\"1\" class=\"dataframe\">\n",
              "  <thead>\n",
              "    <tr style=\"text-align: right;\">\n",
              "      <th></th>\n",
              "      <th>ENVIRONMENT_IMPACT_CURRENT</th>\n",
              "      <th>ENERGY_CONSUMPTION_CURRENT</th>\n",
              "      <th>CO2_EMISSIONS_CURRENT</th>\n",
              "      <th>TOTAL_FLOOR_AREA</th>\n",
              "      <th>FLOOR_HEIGHT</th>\n",
              "      <th>VOLUME</th>\n",
              "    </tr>\n",
              "  </thead>\n",
              "  <tbody>\n",
              "    <tr>\n",
              "      <th>35080</th>\n",
              "      <td>0.5</td>\n",
              "      <td>-1.0</td>\n",
              "      <td>0.3</td>\n",
              "      <td>1.5</td>\n",
              "      <td>-0.7</td>\n",
              "      <td>1.1</td>\n",
              "    </tr>\n",
              "    <tr>\n",
              "      <th>194484</th>\n",
              "      <td>0.6</td>\n",
              "      <td>-0.6</td>\n",
              "      <td>-0.3</td>\n",
              "      <td>0.2</td>\n",
              "      <td>-0.4</td>\n",
              "      <td>0.1</td>\n",
              "    </tr>\n",
              "    <tr>\n",
              "      <th>397850</th>\n",
              "      <td>-0.6</td>\n",
              "      <td>0.0</td>\n",
              "      <td>0.3</td>\n",
              "      <td>-0.0</td>\n",
              "      <td>0.2</td>\n",
              "      <td>0.0</td>\n",
              "    </tr>\n",
              "    <tr>\n",
              "      <th>299929</th>\n",
              "      <td>-2.6</td>\n",
              "      <td>4.8</td>\n",
              "      <td>1.0</td>\n",
              "      <td>-0.8</td>\n",
              "      <td>-0.1</td>\n",
              "      <td>-0.7</td>\n",
              "    </tr>\n",
              "    <tr>\n",
              "      <th>163219</th>\n",
              "      <td>1.1</td>\n",
              "      <td>-0.7</td>\n",
              "      <td>-0.8</td>\n",
              "      <td>-0.6</td>\n",
              "      <td>-0.4</td>\n",
              "      <td>-0.6</td>\n",
              "    </tr>\n",
              "  </tbody>\n",
              "</table>\n",
              "</div>"
            ],
            "text/plain": [
              "        ENVIRONMENT_IMPACT_CURRENT  ...  VOLUME\n",
              "35080                          0.5  ...     1.1\n",
              "194484                         0.6  ...     0.1\n",
              "397850                        -0.6  ...     0.0\n",
              "299929                        -2.6  ...    -0.7\n",
              "163219                         1.1  ...    -0.6\n",
              "\n",
              "[5 rows x 6 columns]"
            ]
          },
          "metadata": {},
          "execution_count": 12
        }
      ]
    },
    {
      "cell_type": "code",
      "metadata": {
        "id": "FvWACZQ4SipD"
      },
      "source": [
        "# Create an empty list that will eventually hold all created feature columns.\n",
        "feature_columns = []\n",
        "\n",
        "# It scaled all the columns\n",
        "# Z scores. \n",
        "# to use resolution_in_Zs.  A resolution_in_Zs of 1 corresponds to \n",
        "# a full standard deviation. \n",
        "resolution_in_Zs = 0.3  # 3/10 of a standard deviation.\n",
        "\n",
        "# numeric cols\n",
        "for header in [\"TOTAL_FLOOR_AREA\",\"FLOOR_HEIGHT\"]:\n",
        "  feature_columns.append(feature_column.numeric_column(header))\n",
        "\n",
        "# indicator_columns\n",
        "indicator_column_names = ['PROPERTY_TYPE','BUILT_FORM','GLAZED_AREA','FLOOR_DESCRIPTION','WINDOWS_DESCRIPTION','WINDOWS_ENERGY_EFF','WALLS_DESCRIPTION','WALLS_ENERGY_EFF','ROOF_DESCRIPTION','MAIN_FUEL','CONSTRUCTION_AGE_BAND']\n",
        "for col_name in indicator_column_names:\n",
        "  categorical_column = feature_column.categorical_column_with_vocabulary_list(\n",
        "      col_name, Data[col_name].unique())\n",
        "  indicator_column = feature_column.indicator_column(categorical_column)\n",
        "  feature_columns.append(indicator_column)\n",
        "\n",
        "\n",
        "# crossed columns\n",
        "Volume_type_feature = feature_column.crossed_column(['TOTAL_FLOOR_AREA','FLOOR_HEIGHT'], hash_bucket_size=100)\n",
        "feature_columns.append(feature_column.indicator_column(Volume_type_feature))\n",
        "\n",
        "\n",
        "# Convert the list of feature columns into a layer that will later be fed into\n",
        "# the model. \n",
        "my_feature_layer = tf.keras.layers.DenseFeatures(feature_columns)"
      ],
      "execution_count": null,
      "outputs": []
    },
    {
      "cell_type": "markdown",
      "metadata": {
        "id": "CpO-1HXRS_xS"
      },
      "source": [
        "**Deep neural network**"
      ]
    },
    {
      "cell_type": "code",
      "metadata": {
        "id": "aHzKKa-3TCGy"
      },
      "source": [
        "\n",
        "def create_model(my_learning_rate, my_feature_layer):\n",
        "  \"\"\"Create and compile a simple linear regression model.\"\"\"\n",
        "  # Most simple tf.keras models are sequential.\n",
        "  model = tf.keras.models.Sequential()\n",
        "\n",
        "  # Add the layer containing the feature columns to the model.\n",
        "  model.add(my_feature_layer)\n",
        "\n",
        "  # Describe the topography of the model by calling the tf.keras.layers.Dense\n",
        "  # method once for each layer. We've specified the following arguments:\n",
        "  #   * units specifies the number of nodes in this layer.\n",
        "  #   * activation specifies the activation function (Rectified Linear Unit).\n",
        "  #   * name is just a string that can be useful when debugging.\n",
        "\n",
        "  # Define the first hidden layer with 20 nodes.   \n",
        "  model.add(tf.keras.layers.Dense(units=20, \n",
        "                                  activation='relu', \n",
        "                                  name='Hidden1'))\n",
        "  \n",
        "  # Define the second hidden layer with 12 nodes. \n",
        "  model.add(tf.keras.layers.Dense(units=12, \n",
        "                                  activation='relu', \n",
        "                                  name='Hidden2'))\n",
        "  \n",
        "  \n",
        "  # Define the output layer.\n",
        "  model.add(tf.keras.layers.Dense(units=1,  \n",
        "                                  name='Output'))                              \n",
        "  \n",
        "  model.compile(optimizer=tf.keras.optimizers.Adam(lr=my_learning_rate),\n",
        "                loss=\"mean_squared_error\",\n",
        "                metrics=[tf.keras.metrics.MeanSquaredError()])\n",
        "\n",
        "  return model"
      ],
      "execution_count": null,
      "outputs": []
    },
    {
      "cell_type": "markdown",
      "metadata": {
        "id": "7i532Rp0T57w"
      },
      "source": [
        "**Define training function**"
      ]
    },
    {
      "cell_type": "code",
      "metadata": {
        "id": "6PnfmQKlUJpK"
      },
      "source": [
        "def train_model(model, dataset, epochs, label_name,\n",
        "                batch_size=None):\n",
        "  \"\"\"Train the model by feeding it data.\"\"\"\n",
        "\n",
        "  # Split the dataset into features and label.\n",
        "  features = {name:np.array(value) for name, value in dataset.items()}\n",
        "  label = np.array(features.pop(label_name))\n",
        "  history = model.fit(x=features, y=label, batch_size=batch_size,\n",
        "                      epochs=epochs, shuffle=True, callbacks=[WandbCallback()]) \n",
        "\n",
        "  # The list of epochs is stored separately from the rest of history.\n",
        "  epochs = history.epoch\n",
        "  \n",
        "  # To track the progression of training, gather a snapshot\n",
        "  # of the model's mean squared error at each epoch. \n",
        "  hist = pd.DataFrame(history.history)\n",
        "  mse = hist[\"mean_squared_error\"]\n",
        "\n",
        "  return epochs, mse"
      ],
      "execution_count": null,
      "outputs": []
    },
    {
      "cell_type": "markdown",
      "metadata": {
        "id": "cxgZDlfpflH_"
      },
      "source": [
        "**Define the plotting function**"
      ]
    },
    {
      "cell_type": "code",
      "metadata": {
        "colab": {
          "base_uri": "https://localhost:8080/"
        },
        "id": "q8sJWIohf44h",
        "outputId": "58cadd96-ed52-43ae-d9e4-f2a6c1295c3e"
      },
      "source": [
        "#@title Define the plotting function.\n",
        "\n",
        "def plot_the_loss_curve(epochs, mse):\n",
        "  \"\"\"Plot a curve of loss vs. epoch.\"\"\"\n",
        "\n",
        "  plt.figure()\n",
        "  plt.xlabel(\"Epoch\")\n",
        "  plt.ylabel(\"Mean Squared Error\")\n",
        "\n",
        "  plt.plot(epochs, mse, label=\"Loss\")\n",
        "  plt.legend()\n",
        "  plt.ylim([mse.min()*0.95, mse.max() * 1.03])\n",
        "  plt.show()  \n",
        "\n",
        "print(\"Defined the plot_the_loss_curve function.\")"
      ],
      "execution_count": null,
      "outputs": [
        {
          "output_type": "stream",
          "name": "stdout",
          "text": [
            "Defined the plot_the_loss_curve function.\n"
          ]
        }
      ]
    },
    {
      "cell_type": "code",
      "metadata": {
        "id": "pTv255XCBOyB"
      },
      "source": [
        "\n"
      ],
      "execution_count": null,
      "outputs": []
    },
    {
      "cell_type": "markdown",
      "metadata": {
        "id": "0VBKH9DpXqyU"
      },
      "source": [
        "**Call functions to build and train Neural Network**"
      ]
    },
    {
      "cell_type": "code",
      "metadata": {
        "colab": {
          "base_uri": "https://localhost:8080/",
          "height": 1000,
          "referenced_widgets": [
            "19a5bd33c80e4bb1928ad2f6ffd8bd91",
            "cdd640c25e8f4bfcaba0c28fe15fed54",
            "7c6089fbef5c4ab0a2b3d422c55d13c2",
            "051c67077e25450b899390b19ba7cf8f",
            "359cbe26a95f49479e0acc3cc1f9bc40",
            "d5af7518df314aebb36db57e51273515",
            "2dc9b995a32a4930b2b14d304ffc82c0",
            "3245111d3bc2471fb89901c475c597ae"
          ]
        },
        "id": "NEchj9TDXzcn",
        "outputId": "c3e5a20c-b902-46f2-9904-d823598a0c75"
      },
      "source": [
        " wandb.init(\n",
        "      project=\"CO2_1\",\n",
        "      # Set entity to specify your username or team name\n",
        "      # ex: entity=\"carey\",\n",
        "      config={\n",
        "          \"layer_1\": 20,\n",
        "          \"activation_1\": \"relu\",\n",
        "          \"dropout\": random.uniform(0.01, 0.80),\n",
        "          \"layer_2\": 12,\n",
        "          \"activation_2\": \"softmax\",\n",
        "          \"optimizer\": \"sgd\",\n",
        "          \"loss\": \"sparse_categorical_crossentropy\",\n",
        "          \"metric\": \"accuracy\",\n",
        "          \"epoch\": 15,\n",
        "          \"learning_rate\":0.01,\n",
        "          \"batch_size\": 1000\n",
        "      })\n",
        "config = wandb.config\n",
        "\n",
        "# The following variables are the hyperparameters.\n",
        "learning_rate = config.learning_rate\n",
        "epochs = config.epoch\n",
        "batch_size = config.batch_size\n",
        "\n",
        "# Specify the label\n",
        "label_name = \"CO2_EMISSIONS_CURRENT\"\n",
        "\n",
        "# Establish the model's topography.\n",
        "my_model = create_model(learning_rate, my_feature_layer)\n",
        "\n",
        "# Train the model on the normalized training set. We're passing the entire\n",
        "# normalized training set, but the model will only use the features\n",
        "# defined by the feature_layer.\n",
        "epochs, mse = train_model(my_model, training_data, epochs, \n",
        "                          label_name, batch_size)\n",
        "plot_the_loss_curve(epochs, mse)\n",
        "\n",
        "# After building a model against the training set, test that model\n",
        "# against the test set.\n",
        "test_features = {name:np.array(value) for name, value in testing_data.items()}\n",
        "test_label = np.array(test_features.pop(label_name)) # isolate the label\n",
        "print(\"\\n Evaluate the new model against the test set:\")\n",
        "my_model.evaluate(x = test_features, y = test_label, batch_size=batch_size)\n",
        "\n",
        "# 3. Log metrics over time to visualize performance\n",
        "for i in range (10):\n",
        "    wandb.log({\"loss\":\"mean_squared_error\"})\n",
        "\n",
        "  # Mark the run as finished\n",
        "wandb.finish()\n"
      ],
      "execution_count": null,
      "outputs": [
        {
          "output_type": "display_data",
          "data": {
            "text/html": [
              "\n",
              "                Tracking run with wandb version 0.12.1<br/>\n",
              "                Syncing run <strong style=\"color:#cdcd00\">rosy-brook-9</strong> to <a href=\"https://wandb.ai\" target=\"_blank\">Weights & Biases</a> <a href=\"https://docs.wandb.com/integrations/jupyter.html\" target=\"_blank\">(Documentation)</a>.<br/>\n",
              "                Project page: <a href=\"https://wandb.ai/essienai/CO2_1\" target=\"_blank\">https://wandb.ai/essienai/CO2_1</a><br/>\n",
              "                Run page: <a href=\"https://wandb.ai/essienai/CO2_1/runs/3t2kormo\" target=\"_blank\">https://wandb.ai/essienai/CO2_1/runs/3t2kormo</a><br/>\n",
              "                Run data is saved locally in <code>/content/wandb/run-20210913_125934-3t2kormo</code><br/><br/>\n",
              "            "
            ],
            "text/plain": [
              "<IPython.core.display.HTML object>"
            ]
          },
          "metadata": {}
        },
        {
          "output_type": "stream",
          "name": "stderr",
          "text": [
            "/usr/local/lib/python3.7/dist-packages/keras/optimizer_v2/optimizer_v2.py:356: UserWarning: The `lr` argument is deprecated, use `learning_rate` instead.\n",
            "  \"The `lr` argument is deprecated, use `learning_rate` instead.\")\n"
          ]
        },
        {
          "output_type": "stream",
          "name": "stdout",
          "text": [
            "Epoch 1/15\n",
            "WARNING:tensorflow:Layers in a Sequential model should only have a single input tensor, but we receive a <class 'dict'> input: {'CURRENT_ENERGY_RATING': <tf.Tensor 'ExpandDims_2:0' shape=(None, 1) dtype=string>, 'PROPERTY_TYPE': <tf.Tensor 'ExpandDims_11:0' shape=(None, 1) dtype=string>, 'BUILT_FORM': <tf.Tensor 'ExpandDims:0' shape=(None, 1) dtype=string>, 'ENVIRONMENT_IMPACT_CURRENT': <tf.Tensor 'ExpandDims_4:0' shape=(None, 1) dtype=int64>, 'ENERGY_CONSUMPTION_CURRENT': <tf.Tensor 'ExpandDims_3:0' shape=(None, 1) dtype=int64>, 'TOTAL_FLOOR_AREA': <tf.Tensor 'ExpandDims_13:0' shape=(None, 1) dtype=float32>, 'MAINS_GAS_FLAG': <tf.Tensor 'ExpandDims_8:0' shape=(None, 1) dtype=string>, 'GLAZED_AREA': <tf.Tensor 'ExpandDims_7:0' shape=(None, 1) dtype=string>, 'FLOOR_DESCRIPTION': <tf.Tensor 'ExpandDims_5:0' shape=(None, 1) dtype=string>, 'WINDOWS_DESCRIPTION': <tf.Tensor 'ExpandDims_17:0' shape=(None, 1) dtype=string>, 'WINDOWS_ENERGY_EFF': <tf.Tensor 'ExpandDims_18:0' shape=(None, 1) dtype=string>, 'WALLS_DESCRIPTION': <tf.Tensor 'ExpandDims_15:0' shape=(None, 1) dtype=string>, 'WALLS_ENERGY_EFF': <tf.Tensor 'ExpandDims_16:0' shape=(None, 1) dtype=string>, 'ROOF_DESCRIPTION': <tf.Tensor 'ExpandDims_12:0' shape=(None, 1) dtype=string>, 'MAIN_FUEL': <tf.Tensor 'ExpandDims_9:0' shape=(None, 1) dtype=string>, 'FLOOR_HEIGHT': <tf.Tensor 'ExpandDims_6:0' shape=(None, 1) dtype=float32>, 'VOLUME': <tf.Tensor 'ExpandDims_14:0' shape=(None, 1) dtype=float32>, 'MECHANICAL_VENTILATION': <tf.Tensor 'ExpandDims_10:0' shape=(None, 1) dtype=string>, 'CONSTRUCTION_AGE_BAND': <tf.Tensor 'ExpandDims_1:0' shape=(None, 1) dtype=string>}\n",
            "Consider rewriting this model with the Functional API.\n",
            "WARNING:tensorflow:Layers in a Sequential model should only have a single input tensor, but we receive a <class 'dict'> input: {'CURRENT_ENERGY_RATING': <tf.Tensor 'ExpandDims_2:0' shape=(None, 1) dtype=string>, 'PROPERTY_TYPE': <tf.Tensor 'ExpandDims_11:0' shape=(None, 1) dtype=string>, 'BUILT_FORM': <tf.Tensor 'ExpandDims:0' shape=(None, 1) dtype=string>, 'ENVIRONMENT_IMPACT_CURRENT': <tf.Tensor 'ExpandDims_4:0' shape=(None, 1) dtype=int64>, 'ENERGY_CONSUMPTION_CURRENT': <tf.Tensor 'ExpandDims_3:0' shape=(None, 1) dtype=int64>, 'TOTAL_FLOOR_AREA': <tf.Tensor 'ExpandDims_13:0' shape=(None, 1) dtype=float32>, 'MAINS_GAS_FLAG': <tf.Tensor 'ExpandDims_8:0' shape=(None, 1) dtype=string>, 'GLAZED_AREA': <tf.Tensor 'ExpandDims_7:0' shape=(None, 1) dtype=string>, 'FLOOR_DESCRIPTION': <tf.Tensor 'ExpandDims_5:0' shape=(None, 1) dtype=string>, 'WINDOWS_DESCRIPTION': <tf.Tensor 'ExpandDims_17:0' shape=(None, 1) dtype=string>, 'WINDOWS_ENERGY_EFF': <tf.Tensor 'ExpandDims_18:0' shape=(None, 1) dtype=string>, 'WALLS_DESCRIPTION': <tf.Tensor 'ExpandDims_15:0' shape=(None, 1) dtype=string>, 'WALLS_ENERGY_EFF': <tf.Tensor 'ExpandDims_16:0' shape=(None, 1) dtype=string>, 'ROOF_DESCRIPTION': <tf.Tensor 'ExpandDims_12:0' shape=(None, 1) dtype=string>, 'MAIN_FUEL': <tf.Tensor 'ExpandDims_9:0' shape=(None, 1) dtype=string>, 'FLOOR_HEIGHT': <tf.Tensor 'ExpandDims_6:0' shape=(None, 1) dtype=float32>, 'VOLUME': <tf.Tensor 'ExpandDims_14:0' shape=(None, 1) dtype=float32>, 'MECHANICAL_VENTILATION': <tf.Tensor 'ExpandDims_10:0' shape=(None, 1) dtype=string>, 'CONSTRUCTION_AGE_BAND': <tf.Tensor 'ExpandDims_1:0' shape=(None, 1) dtype=string>}\n",
            "Consider rewriting this model with the Functional API.\n",
            "444/444 [==============================] - 30s 66ms/step - loss: 1.5867 - mean_squared_error: 1.5867\n",
            "Epoch 2/15\n",
            "444/444 [==============================] - 30s 67ms/step - loss: 1.1216 - mean_squared_error: 1.1216\n",
            "Epoch 3/15\n",
            "444/444 [==============================] - 30s 67ms/step - loss: 1.0595 - mean_squared_error: 1.0595\n",
            "Epoch 4/15\n",
            "444/444 [==============================] - 30s 67ms/step - loss: 1.0407 - mean_squared_error: 1.0407\n",
            "Epoch 5/15\n",
            "444/444 [==============================] - 30s 67ms/step - loss: 1.0382 - mean_squared_error: 1.0382\n",
            "Epoch 6/15\n",
            "444/444 [==============================] - 29s 66ms/step - loss: 1.0179 - mean_squared_error: 1.0179\n",
            "Epoch 7/15\n",
            "444/444 [==============================] - 30s 67ms/step - loss: 1.0302 - mean_squared_error: 1.0302\n",
            "Epoch 8/15\n",
            "444/444 [==============================] - 29s 66ms/step - loss: 1.0299 - mean_squared_error: 1.0299\n",
            "Epoch 9/15\n",
            "444/444 [==============================] - 29s 66ms/step - loss: 1.0190 - mean_squared_error: 1.0190\n",
            "Epoch 10/15\n",
            "444/444 [==============================] - 29s 66ms/step - loss: 1.0082 - mean_squared_error: 1.0082\n",
            "Epoch 11/15\n",
            "444/444 [==============================] - 29s 66ms/step - loss: 1.0114 - mean_squared_error: 1.0114\n",
            "Epoch 12/15\n",
            "444/444 [==============================] - 29s 66ms/step - loss: 0.9986 - mean_squared_error: 0.9986\n",
            "Epoch 13/15\n",
            "444/444 [==============================] - 29s 66ms/step - loss: 1.0033 - mean_squared_error: 1.0033\n",
            "Epoch 14/15\n",
            "444/444 [==============================] - 30s 67ms/step - loss: 0.9895 - mean_squared_error: 0.9895\n",
            "Epoch 15/15\n",
            "444/444 [==============================] - 29s 65ms/step - loss: 1.0077 - mean_squared_error: 1.0077\n"
          ]
        },
        {
          "output_type": "display_data",
          "data": {
            "image/png": "[encoded data removed]",
            "text/plain": [
              "<Figure size 432x288 with 1 Axes>"
            ]
          },
          "metadata": {
            "needs_background": "light"
          }
        },
        {
          "output_type": "stream",
          "name": "stdout",
          "text": [
            "\n",
            " Evaluate the new model against the test set:\n",
            "WARNING:tensorflow:Layers in a Sequential model should only have a single input tensor, but we receive a <class 'dict'> input: {'CURRENT_ENERGY_RATING': <tf.Tensor 'ExpandDims_2:0' shape=(None, 1) dtype=string>, 'PROPERTY_TYPE': <tf.Tensor 'ExpandDims_11:0' shape=(None, 1) dtype=string>, 'BUILT_FORM': <tf.Tensor 'ExpandDims:0' shape=(None, 1) dtype=string>, 'ENVIRONMENT_IMPACT_CURRENT': <tf.Tensor 'ExpandDims_4:0' shape=(None, 1) dtype=int64>, 'ENERGY_CONSUMPTION_CURRENT': <tf.Tensor 'ExpandDims_3:0' shape=(None, 1) dtype=int64>, 'TOTAL_FLOOR_AREA': <tf.Tensor 'ExpandDims_13:0' shape=(None, 1) dtype=float32>, 'MAINS_GAS_FLAG': <tf.Tensor 'ExpandDims_8:0' shape=(None, 1) dtype=string>, 'GLAZED_AREA': <tf.Tensor 'ExpandDims_7:0' shape=(None, 1) dtype=string>, 'FLOOR_DESCRIPTION': <tf.Tensor 'ExpandDims_5:0' shape=(None, 1) dtype=string>, 'WINDOWS_DESCRIPTION': <tf.Tensor 'ExpandDims_17:0' shape=(None, 1) dtype=string>, 'WINDOWS_ENERGY_EFF': <tf.Tensor 'ExpandDims_18:0' shape=(None, 1) dtype=string>, 'WALLS_DESCRIPTION': <tf.Tensor 'ExpandDims_15:0' shape=(None, 1) dtype=string>, 'WALLS_ENERGY_EFF': <tf.Tensor 'ExpandDims_16:0' shape=(None, 1) dtype=string>, 'ROOF_DESCRIPTION': <tf.Tensor 'ExpandDims_12:0' shape=(None, 1) dtype=string>, 'MAIN_FUEL': <tf.Tensor 'ExpandDims_9:0' shape=(None, 1) dtype=string>, 'FLOOR_HEIGHT': <tf.Tensor 'ExpandDims_6:0' shape=(None, 1) dtype=float32>, 'VOLUME': <tf.Tensor 'ExpandDims_14:0' shape=(None, 1) dtype=float32>, 'MECHANICAL_VENTILATION': <tf.Tensor 'ExpandDims_10:0' shape=(None, 1) dtype=string>, 'CONSTRUCTION_AGE_BAND': <tf.Tensor 'ExpandDims_1:0' shape=(None, 1) dtype=string>}\n",
            "Consider rewriting this model with the Functional API.\n",
            "111/111 [==============================] - 3s 19ms/step - loss: 0.9138 - mean_squared_error: 0.9138\n"
          ]
        },
        {
          "output_type": "display_data",
          "data": {
            "text/html": [
              "<br/>Waiting for W&B process to finish, PID 3259<br/>Program ended successfully."
            ],
            "text/plain": [
              "<IPython.core.display.HTML object>"
            ]
          },
          "metadata": {}
        },
        {
          "output_type": "display_data",
          "data": {
            "application/vnd.jupyter.widget-view+json": {
              "model_id": "19a5bd33c80e4bb1928ad2f6ffd8bd91",
              "version_minor": 0,
              "version_major": 2
            },
            "text/plain": [
              "VBox(children=(Label(value=' 0.00MB of 0.00MB uploaded (0.00MB deduped)\\r'), FloatProgress(value=1.0, max=1.0)…"
            ]
          },
          "metadata": {}
        },
        {
          "output_type": "display_data",
          "data": {
            "text/html": [
              "Find user logs for this run at: <code>/content/wandb/run-20210913_125934-3t2kormo/logs/debug.log</code>"
            ],
            "text/plain": [
              "<IPython.core.display.HTML object>"
            ]
          },
          "metadata": {}
        },
        {
          "output_type": "display_data",
          "data": {
            "text/html": [
              "Find internal logs for this run at: <code>/content/wandb/run-20210913_125934-3t2kormo/logs/debug-internal.log</code>"
            ],
            "text/plain": [
              "<IPython.core.display.HTML object>"
            ]
          },
          "metadata": {}
        },
        {
          "output_type": "display_data",
          "data": {
            "text/html": [
              "<h3>Run summary:</h3><br/><style>\n",
              "    table.wandb td:nth-child(1) { padding: 0 10px; text-align: right }\n",
              "    </style><table class=\"wandb\">\n",
              "<tr><td>epoch</td><td>14</td></tr><tr><td>loss</td><td>mean_squared_error</td></tr><tr><td>mean_squared_error</td><td>1.00774</td></tr><tr><td>_runtime</td><td>510</td></tr><tr><td>_timestamp</td><td>1631538484</td></tr><tr><td>_step</td><td>24</td></tr></table>"
            ],
            "text/plain": [
              "<IPython.core.display.HTML object>"
            ]
          },
          "metadata": {}
        },
        {
          "output_type": "display_data",
          "data": {
            "text/html": [
              "<h3>Run history:</h3><br/><style>\n",
              "    table.wandb td:nth-child(1) { padding: 0 10px; text-align: right }\n",
              "    </style><table class=\"wandb\">\n",
              "<tr><td>epoch</td><td>▁▁▂▃▃▃▄▅▅▅▆▇▇▇█</td></tr><tr><td>loss</td><td>█▃▂▂▂▁▁▁▁▁▁▁▁▁▁</td></tr><tr><td>mean_squared_error</td><td>█▃▂▂▂▁▁▁▁▁▁▁▁▁▁</td></tr><tr><td>_runtime</td><td>▁▁▂▂▃▃▄▄▄▅▅▆▆▇▇██████████</td></tr><tr><td>_timestamp</td><td>▁▁▂▂▃▃▄▄▄▅▅▆▆▇▇██████████</td></tr><tr><td>_step</td><td>▁▁▂▂▂▂▃▃▃▄▄▄▅▅▅▅▆▆▆▇▇▇▇██</td></tr></table><br/>"
            ],
            "text/plain": [
              "<IPython.core.display.HTML object>"
            ]
          },
          "metadata": {}
        },
        {
          "output_type": "display_data",
          "data": {
            "text/html": [
              "Synced 5 W&B file(s), 1 media file(s), 0 artifact file(s) and 0 other file(s)"
            ],
            "text/plain": [
              "<IPython.core.display.HTML object>"
            ]
          },
          "metadata": {}
        },
        {
          "output_type": "display_data",
          "data": {
            "text/html": [
              "\n",
              "                    <br/>Synced <strong style=\"color:#cdcd00\">rosy-brook-9</strong>: <a href=\"https://wandb.ai/essienai/CO2_1/runs/3t2kormo\" target=\"_blank\">https://wandb.ai/essienai/CO2_1/runs/3t2kormo</a><br/>\n",
              "                "
            ],
            "text/plain": [
              "<IPython.core.display.HTML object>"
            ]
          },
          "metadata": {}
        }
      ]
    },
    {
      "cell_type": "code",
      "metadata": {
        "colab": {
          "base_uri": "https://localhost:8080/"
        },
        "id": "IE9t6It0popm",
        "outputId": "c0ef7b9d-795e-437a-9b5b-2088a80185b1"
      },
      "source": [
        "my_model.summary()"
      ],
      "execution_count": null,
      "outputs": [
        {
          "output_type": "stream",
          "name": "stdout",
          "text": [
            "Model: \"sequential\"\n",
            "_________________________________________________________________\n",
            "Layer (type)                 Output Shape              Param #   \n",
            "=================================================================\n",
            "dense_features (DenseFeature multiple                  0         \n",
            "_________________________________________________________________\n",
            "Hidden1 (Dense)              multiple                  7240      \n",
            "_________________________________________________________________\n",
            "Hidden2 (Dense)              multiple                  252       \n",
            "_________________________________________________________________\n",
            "Output (Dense)               multiple                  13        \n",
            "=================================================================\n",
            "Total params: 7,505\n",
            "Trainable params: 7,505\n",
            "Non-trainable params: 0\n",
            "_________________________________________________________________\n"
          ]
        }
      ]
    },
    {
      "cell_type": "code",
      "metadata": {
        "id": "VMDpYLoflZxT"
      },
      "source": [
        "#X=Data[['TOTAL_FLOOR_AREA','FLOOR_HEIGHT','PROPERTY_TYPE','BUILT_FORM','GLAZED_AREA','FLOOR_DESCRIPTION','WINDOWS_DESCRIPTION','WINDOWS_ENERGY_EFF','WALLS_DESCRIPTION','WALLS_ENERGY_EFF','ROOF_DESCRIPTION','MAIN_FUEL','CONSTRUCTION_AGE_BAND']]"
      ],
      "execution_count": null,
      "outputs": []
    },
    {
      "cell_type": "code",
      "metadata": {
        "id": "eoFb2xaNlNsX"
      },
      "source": [
        "#predictions = my_model.predict(x = test_features) "
      ],
      "execution_count": null,
      "outputs": []
    },
    {
      "cell_type": "code",
      "metadata": {
        "colab": {
          "base_uri": "https://localhost:8080/",
          "height": 804
        },
        "id": "vFR00nhk_vOn",
        "outputId": "2a8822a6-e9b5-48ec-e412-6e5978fba602"
      },
      "source": [
        "testing_data[0:10]"
      ],
      "execution_count": null,
      "outputs": [
        {
          "output_type": "execute_result",
          "data": {
            "text/html": [
              "<div>\n",
              "<style scoped>\n",
              "    .dataframe tbody tr th:only-of-type {\n",
              "        vertical-align: middle;\n",
              "    }\n",
              "\n",
              "    .dataframe tbody tr th {\n",
              "        vertical-align: top;\n",
              "    }\n",
              "\n",
              "    .dataframe thead th {\n",
              "        text-align: right;\n",
              "    }\n",
              "</style>\n",
              "<table border=\"1\" class=\"dataframe\">\n",
              "  <thead>\n",
              "    <tr style=\"text-align: right;\">\n",
              "      <th></th>\n",
              "      <th>CURRENT_ENERGY_RATING</th>\n",
              "      <th>PROPERTY_TYPE</th>\n",
              "      <th>BUILT_FORM</th>\n",
              "      <th>ENVIRONMENT_IMPACT_CURRENT</th>\n",
              "      <th>ENERGY_CONSUMPTION_CURRENT</th>\n",
              "      <th>CO2_EMISSIONS_CURRENT</th>\n",
              "      <th>TOTAL_FLOOR_AREA</th>\n",
              "      <th>MAINS_GAS_FLAG</th>\n",
              "      <th>GLAZED_AREA</th>\n",
              "      <th>FLOOR_DESCRIPTION</th>\n",
              "      <th>WINDOWS_DESCRIPTION</th>\n",
              "      <th>WINDOWS_ENERGY_EFF</th>\n",
              "      <th>WALLS_DESCRIPTION</th>\n",
              "      <th>WALLS_ENERGY_EFF</th>\n",
              "      <th>ROOF_DESCRIPTION</th>\n",
              "      <th>MAIN_FUEL</th>\n",
              "      <th>FLOOR_HEIGHT</th>\n",
              "      <th>VOLUME</th>\n",
              "      <th>MECHANICAL_VENTILATION</th>\n",
              "      <th>CONSTRUCTION_AGE_BAND</th>\n",
              "    </tr>\n",
              "  </thead>\n",
              "  <tbody>\n",
              "    <tr>\n",
              "      <th>0</th>\n",
              "      <td>B</td>\n",
              "      <td>Flat</td>\n",
              "      <td>Mid-Terrace</td>\n",
              "      <td>84</td>\n",
              "      <td>248</td>\n",
              "      <td>0.8</td>\n",
              "      <td>21.0</td>\n",
              "      <td>Y</td>\n",
              "      <td>Normal</td>\n",
              "      <td>(other premises below)</td>\n",
              "      <td>Fully double glazed</td>\n",
              "      <td>Good</td>\n",
              "      <td>Solid brick, with internal insulation</td>\n",
              "      <td>Good</td>\n",
              "      <td>(another dwelling above)</td>\n",
              "      <td>electricity - this is for backwards compatibil...</td>\n",
              "      <td>1.8</td>\n",
              "      <td>37.8</td>\n",
              "      <td>natural</td>\n",
              "      <td>A</td>\n",
              "    </tr>\n",
              "    <tr>\n",
              "      <th>5</th>\n",
              "      <td>D</td>\n",
              "      <td>Flat</td>\n",
              "      <td>Mid-Terrace</td>\n",
              "      <td>58</td>\n",
              "      <td>439</td>\n",
              "      <td>2.5</td>\n",
              "      <td>33.8</td>\n",
              "      <td>Y</td>\n",
              "      <td>Normal</td>\n",
              "      <td>(other premises below)</td>\n",
              "      <td>Partial double glazing</td>\n",
              "      <td>Poor</td>\n",
              "      <td>Solid brick, as built, no insulation (assumed)</td>\n",
              "      <td>Very Poor</td>\n",
              "      <td>Pitched, no insulation (assumed)</td>\n",
              "      <td>mains gas - this is for backwards compatibilit...</td>\n",
              "      <td>1.8</td>\n",
              "      <td>60.8</td>\n",
              "      <td>natural</td>\n",
              "      <td>C</td>\n",
              "    </tr>\n",
              "    <tr>\n",
              "      <th>12</th>\n",
              "      <td>B</td>\n",
              "      <td>Flat</td>\n",
              "      <td>Mid-Terrace</td>\n",
              "      <td>88</td>\n",
              "      <td>105</td>\n",
              "      <td>0.8</td>\n",
              "      <td>44.6</td>\n",
              "      <td>Y</td>\n",
              "      <td>Normal</td>\n",
              "      <td>(other premises below)</td>\n",
              "      <td>Fully double glazed</td>\n",
              "      <td>Good</td>\n",
              "      <td>Solid brick, with internal insulation</td>\n",
              "      <td>Good</td>\n",
              "      <td>(another dwelling above)</td>\n",
              "      <td>mains gas - this is for backwards compatibilit...</td>\n",
              "      <td>1.8</td>\n",
              "      <td>80.3</td>\n",
              "      <td>natural</td>\n",
              "      <td>A</td>\n",
              "    </tr>\n",
              "    <tr>\n",
              "      <th>14</th>\n",
              "      <td>D</td>\n",
              "      <td>Flat</td>\n",
              "      <td>Semi-Detached</td>\n",
              "      <td>59</td>\n",
              "      <td>306</td>\n",
              "      <td>2.4</td>\n",
              "      <td>45.0</td>\n",
              "      <td>Y</td>\n",
              "      <td>Normal</td>\n",
              "      <td>(another dwelling below)</td>\n",
              "      <td>Mostly double glazing</td>\n",
              "      <td>Average</td>\n",
              "      <td>Solid brick, as built, no insulation (assumed)</td>\n",
              "      <td>Very Poor</td>\n",
              "      <td>(another dwelling above)</td>\n",
              "      <td>mains gas (not community)</td>\n",
              "      <td>1.8</td>\n",
              "      <td>81.0</td>\n",
              "      <td>natural</td>\n",
              "      <td>B</td>\n",
              "    </tr>\n",
              "    <tr>\n",
              "      <th>20</th>\n",
              "      <td>E</td>\n",
              "      <td>Flat</td>\n",
              "      <td>Mid-Terrace</td>\n",
              "      <td>53</td>\n",
              "      <td>348</td>\n",
              "      <td>3.5</td>\n",
              "      <td>54.5</td>\n",
              "      <td>N</td>\n",
              "      <td>Normal</td>\n",
              "      <td>Suspended, no insulation (assumed)</td>\n",
              "      <td>Fully double glazed</td>\n",
              "      <td>Good</td>\n",
              "      <td>Solid brick, as built, no insulation (assumed)</td>\n",
              "      <td>Very Poor</td>\n",
              "      <td>Pitched, 12 mm loft insulation</td>\n",
              "      <td>mains gas (not community)</td>\n",
              "      <td>1.8</td>\n",
              "      <td>98.1</td>\n",
              "      <td>natural</td>\n",
              "      <td>B</td>\n",
              "    </tr>\n",
              "    <tr>\n",
              "      <th>25</th>\n",
              "      <td>D</td>\n",
              "      <td>Maisonette</td>\n",
              "      <td>Semi-Detached</td>\n",
              "      <td>51</td>\n",
              "      <td>374</td>\n",
              "      <td>4.0</td>\n",
              "      <td>63.8</td>\n",
              "      <td>Y</td>\n",
              "      <td>Normal</td>\n",
              "      <td>Solid, no insulation (assumed)</td>\n",
              "      <td>Partial double glazing</td>\n",
              "      <td>Poor</td>\n",
              "      <td>Solid brick, as built, no insulation (assumed)</td>\n",
              "      <td>Very Poor</td>\n",
              "      <td>(another dwelling above)</td>\n",
              "      <td>mains gas - this is for backwards compatibilit...</td>\n",
              "      <td>1.8</td>\n",
              "      <td>114.9</td>\n",
              "      <td>natural</td>\n",
              "      <td>B</td>\n",
              "    </tr>\n",
              "    <tr>\n",
              "      <th>41</th>\n",
              "      <td>E</td>\n",
              "      <td>Maisonette</td>\n",
              "      <td>Detached</td>\n",
              "      <td>45</td>\n",
              "      <td>357</td>\n",
              "      <td>7.1</td>\n",
              "      <td>119.2</td>\n",
              "      <td>Y</td>\n",
              "      <td>Normal</td>\n",
              "      <td>Solid, no insulation (assumed)</td>\n",
              "      <td>Single glazed</td>\n",
              "      <td>Very Poor</td>\n",
              "      <td>Solid brick, as built, no insulation (assumed)</td>\n",
              "      <td>Very Poor</td>\n",
              "      <td>(another dwelling above)</td>\n",
              "      <td>mains gas - this is for backwards compatibilit...</td>\n",
              "      <td>1.8</td>\n",
              "      <td>214.6</td>\n",
              "      <td>natural</td>\n",
              "      <td>A</td>\n",
              "    </tr>\n",
              "    <tr>\n",
              "      <th>48</th>\n",
              "      <td>E</td>\n",
              "      <td>House</td>\n",
              "      <td>Semi-Detached</td>\n",
              "      <td>47</td>\n",
              "      <td>268</td>\n",
              "      <td>8.8</td>\n",
              "      <td>171.2</td>\n",
              "      <td>Y</td>\n",
              "      <td>Normal</td>\n",
              "      <td>Solid, no insulation (assumed)</td>\n",
              "      <td>Fully double glazed</td>\n",
              "      <td>Average</td>\n",
              "      <td>Solid brick, as built, no insulation (assumed)</td>\n",
              "      <td>Very Poor</td>\n",
              "      <td>Pitched, 100 mm loft insulation</td>\n",
              "      <td>mains gas (not community)</td>\n",
              "      <td>1.8</td>\n",
              "      <td>308.2</td>\n",
              "      <td>natural</td>\n",
              "      <td>B</td>\n",
              "    </tr>\n",
              "    <tr>\n",
              "      <th>49</th>\n",
              "      <td>D</td>\n",
              "      <td>House</td>\n",
              "      <td>End-Terrace</td>\n",
              "      <td>50</td>\n",
              "      <td>242</td>\n",
              "      <td>8.8</td>\n",
              "      <td>189.0</td>\n",
              "      <td>Y</td>\n",
              "      <td>Normal</td>\n",
              "      <td>Suspended, no insulation (assumed)</td>\n",
              "      <td>Some double glazing</td>\n",
              "      <td>Poor</td>\n",
              "      <td>Solid brick, as built, no insulation (assumed)</td>\n",
              "      <td>Very Poor</td>\n",
              "      <td>Flat, no insulation (assumed)</td>\n",
              "      <td>mains gas (not community)</td>\n",
              "      <td>1.8</td>\n",
              "      <td>340.2</td>\n",
              "      <td>natural</td>\n",
              "      <td>A</td>\n",
              "    </tr>\n",
              "    <tr>\n",
              "      <th>50</th>\n",
              "      <td>F</td>\n",
              "      <td>House</td>\n",
              "      <td>End-Terrace</td>\n",
              "      <td>30</td>\n",
              "      <td>348</td>\n",
              "      <td>17.0</td>\n",
              "      <td>200.9</td>\n",
              "      <td>Y</td>\n",
              "      <td>More Than Typical</td>\n",
              "      <td>Suspended, no insulation (assumed)</td>\n",
              "      <td>Mostly double glazing</td>\n",
              "      <td>Average</td>\n",
              "      <td>Solid brick, as built, no insulation (assumed)</td>\n",
              "      <td>Very Poor</td>\n",
              "      <td>Pitched, 100 mm loft insulation</td>\n",
              "      <td>mains gas (not community)</td>\n",
              "      <td>1.8</td>\n",
              "      <td>361.5</td>\n",
              "      <td>natural</td>\n",
              "      <td>B</td>\n",
              "    </tr>\n",
              "  </tbody>\n",
              "</table>\n",
              "</div>"
            ],
            "text/plain": [
              "   CURRENT_ENERGY_RATING  ... CONSTRUCTION_AGE_BAND\n",
              "0                      B  ...                     A\n",
              "5                      D  ...                     C\n",
              "12                     B  ...                     A\n",
              "14                     D  ...                     B\n",
              "20                     E  ...                     B\n",
              "25                     D  ...                     B\n",
              "41                     E  ...                     A\n",
              "48                     E  ...                     B\n",
              "49                     D  ...                     A\n",
              "50                     F  ...                     B\n",
              "\n",
              "[10 rows x 20 columns]"
            ]
          },
          "metadata": {},
          "execution_count": 21
        }
      ]
    },
    {
      "cell_type": "markdown",
      "metadata": {
        "id": "DTN3_DPTKjsI"
      },
      "source": [
        "### Visualize your model's predictions\n",
        "\n",
        "After you have a trained model, it may be helpful to understand how your model's inference differs from the actual data.\n",
        "\n",
        "This helper function `scatter_plot_inference` does that for you. Real data is in grey. Your model's predictions are in orange."
      ]
    },
    {
      "cell_type": "code",
      "metadata": {
        "id": "yjacVFhmbmnk",
        "colab": {
          "base_uri": "https://localhost:8080/"
        },
        "outputId": "fd7c7185-6d80-41be-a7dd-19851ee0a409"
      },
      "source": [
        "predictions = my_model.predict(x=test_features)"
      ],
      "execution_count": null,
      "outputs": [
        {
          "output_type": "stream",
          "name": "stdout",
          "text": [
            "WARNING:tensorflow:Layers in a Sequential model should only have a single input tensor, but we receive a <class 'dict'> input: {'CURRENT_ENERGY_RATING': <tf.Tensor 'ExpandDims_2:0' shape=(None, 1) dtype=string>, 'PROPERTY_TYPE': <tf.Tensor 'ExpandDims_11:0' shape=(None, 1) dtype=string>, 'BUILT_FORM': <tf.Tensor 'ExpandDims:0' shape=(None, 1) dtype=string>, 'ENVIRONMENT_IMPACT_CURRENT': <tf.Tensor 'ExpandDims_4:0' shape=(None, 1) dtype=int64>, 'ENERGY_CONSUMPTION_CURRENT': <tf.Tensor 'ExpandDims_3:0' shape=(None, 1) dtype=int64>, 'TOTAL_FLOOR_AREA': <tf.Tensor 'ExpandDims_13:0' shape=(None, 1) dtype=float32>, 'MAINS_GAS_FLAG': <tf.Tensor 'ExpandDims_8:0' shape=(None, 1) dtype=string>, 'GLAZED_AREA': <tf.Tensor 'ExpandDims_7:0' shape=(None, 1) dtype=string>, 'FLOOR_DESCRIPTION': <tf.Tensor 'ExpandDims_5:0' shape=(None, 1) dtype=string>, 'WINDOWS_DESCRIPTION': <tf.Tensor 'ExpandDims_17:0' shape=(None, 1) dtype=string>, 'WINDOWS_ENERGY_EFF': <tf.Tensor 'ExpandDims_18:0' shape=(None, 1) dtype=string>, 'WALLS_DESCRIPTION': <tf.Tensor 'ExpandDims_15:0' shape=(None, 1) dtype=string>, 'WALLS_ENERGY_EFF': <tf.Tensor 'ExpandDims_16:0' shape=(None, 1) dtype=string>, 'ROOF_DESCRIPTION': <tf.Tensor 'ExpandDims_12:0' shape=(None, 1) dtype=string>, 'MAIN_FUEL': <tf.Tensor 'ExpandDims_9:0' shape=(None, 1) dtype=string>, 'FLOOR_HEIGHT': <tf.Tensor 'ExpandDims_6:0' shape=(None, 1) dtype=float32>, 'VOLUME': <tf.Tensor 'ExpandDims_14:0' shape=(None, 1) dtype=float32>, 'MECHANICAL_VENTILATION': <tf.Tensor 'ExpandDims_10:0' shape=(None, 1) dtype=string>, 'CONSTRUCTION_AGE_BAND': <tf.Tensor 'ExpandDims_1:0' shape=(None, 1) dtype=string>}\n",
            "Consider rewriting this model with the Functional API.\n"
          ]
        }
      ]
    },
    {
      "cell_type": "code",
      "metadata": {
        "colab": {
          "base_uri": "https://localhost:8080/",
          "height": 552
        },
        "id": "o6tCaLbezyWD",
        "outputId": "ff587d3e-e238-47bd-cb00-caf369ecb884"
      },
      "source": [
        "from matplotlib import pyplot as plt\n",
        "import math\n",
        "numeric_feature_names = [\"CO2_EMISSIONS_CURRENT\",\"TOTAL_FLOOR_AREA\",\"FLOOR_HEIGHT\",\"VOLUME\"]\n",
        "x_df = testing_data['CO2_EMISSIONS_CURRENT']\n",
        "feature_names = ['CURRENT_ENERGY_RATING','PROPERTY_TYPE','BUILT_FORM','ENVIRONMENT_IMPACT_CURRENT','ENERGY_CONSUMPTION_CURRENT','CO2_EMISSIONS_CURRENT','TOTAL_FLOOR_AREA','MAINS_GAS_FLAG','GLAZED_AREA','FLOOR_DESCRIPTION','WINDOWS_DESCRIPTION','WINDOWS_ENERGY_EFF','WALLS_DESCRIPTION','WALLS_ENERGY_EFF','ROOF_DESCRIPTION','MAIN_FUEL','FLOOR_HEIGHT','VOLUME','MECHANICAL_VENTILATION','CONSTRUCTION_AGE_BAND']\n",
        "\n",
        "\n",
        "\n",
        "def scatter_plot_inference_grid(my_model, x_df, feature_names):\n",
        "  \"\"\"Plots the predictions of the model against each feature.\n",
        "  \n",
        "  Args:\n",
        "    est: The trained tf.Estimator.\n",
        "    x_df: The pandas dataframe with the input data (used to create\n",
        "      predict_input_fn).\n",
        "    feature_names: An iterable of string feature names to plot.\n",
        "  \"\"\"\n",
        "  def scatter_plot_inference(axis,\n",
        "                             x_axis_feature_name,\n",
        "                             y_axis_feature_name,\n",
        "                             predictions):\n",
        "    \"\"\"Generate one subplot.\"\"\"\n",
        "    # Plot the real data in grey.\n",
        "    y_axis_feature_name = 'CO2_EMISSIONS_CURRENT'\n",
        "    axis.set_ylabel(y_axis_feature_name)\n",
        "    axis.set_xlabel(x_axis_feature_name)\n",
        "    axis.scatter(testing_data[x_axis_feature_name],\n",
        "                 testing_data[y_axis_feature_name],\n",
        "                 c='grey')\n",
        "    \n",
        "    predictions = my_model.predict(x=test_features)\n",
        "\n",
        "    # Plot the predicted data in orange.\n",
        "    axis.scatter(testing_data[x_axis_feature_name], predictions, c='orange')\n",
        "\n",
        "  \n",
        "    \n",
        " \n",
        "  \n",
        "  num_cols = 2\n",
        "  num_rows = int(math.ceil(len(feature_names)/float(num_cols)))\n",
        "  f, axarr = plt.subplots(num_rows, num_cols)\n",
        "  size = 4.5\n",
        "  f.set_size_inches(num_cols*size, num_rows*size)\n",
        "  \n",
        "  for i, feature_name in enumerate(numeric_feature_names):\n",
        "    axis = axarr[int(i/num_cols), i%num_cols]\n",
        "    scatter_plot_inference(axis, feature_name, 'CO2_EMISSIONS_CURRENT', predictions)\n",
        "  plt.show()\n",
        "\n",
        "scatter_plot_inference_grid(my_model, x_df, numeric_feature_names)"
      ],
      "execution_count": null,
      "outputs": [
        {
          "output_type": "display_data",
          "data": {
            "image/png": "[encoded data removed]",
            "text/plain": [
              "<Figure size 648x648 with 4 Axes>"
            ]
          },
          "metadata": {
            "needs_background": "light"
          }
        }
      ]
    },
    {
      "cell_type": "code",
      "metadata": {
        "colab": {
          "base_uri": "https://localhost:8080/"
        },
        "id": "k-VNCAZf7UP3",
        "outputId": "57fe9485-2b7b-4511-e055-2a2e4cf82bbb"
      },
      "source": [
        "predictions[0:30]"
      ],
      "execution_count": null,
      "outputs": [
        {
          "output_type": "execute_result",
          "data": {
            "text/plain": [
              "array([[ 1.3352741],\n",
              "       [ 2.5056643],\n",
              "       [ 1.3352741],\n",
              "       [ 2.101519 ],\n",
              "       [ 3.4018092],\n",
              "       [ 3.234814 ],\n",
              "       [ 5.939173 ],\n",
              "       [ 7.85276  ],\n",
              "       [12.462024 ],\n",
              "       [10.033311 ],\n",
              "       [ 2.9325755],\n",
              "       [ 2.8277462],\n",
              "       [ 6.8705444],\n",
              "       [ 1.3352741],\n",
              "       [ 2.5501535],\n",
              "       [ 2.7795017],\n",
              "       [ 2.5242596],\n",
              "       [ 4.029464 ],\n",
              "       [ 3.490983 ],\n",
              "       [ 4.762941 ],\n",
              "       [ 2.9282649],\n",
              "       [ 3.1307125],\n",
              "       [ 3.035227 ],\n",
              "       [ 3.0765862],\n",
              "       [ 1.3352741],\n",
              "       [ 4.0594277],\n",
              "       [ 3.6747005],\n",
              "       [ 4.1364207],\n",
              "       [ 3.3371704],\n",
              "       [ 6.311467 ]], dtype=float32)"
            ]
          },
          "metadata": {},
          "execution_count": 24
        }
      ]
    },
    {
      "cell_type": "code",
      "metadata": {
        "colab": {
          "base_uri": "https://localhost:8080/"
        },
        "id": "zjLZHIbp7box",
        "outputId": "0ca0f8c9-d14c-47a5-dd1a-a1dfc6081905"
      },
      "source": [
        "Raw_data=testing_data['CO2_EMISSIONS_CURRENT']\n",
        "Raw_data[10:20]"
      ],
      "execution_count": null,
      "outputs": [
        {
          "output_type": "execute_result",
          "data": {
            "text/plain": [
              "52    3.0\n",
              "54    4.2\n",
              "61    6.7\n",
              "78    1.2\n",
              "85    3.1\n",
              "94    7.4\n",
              "117   3.3\n",
              "118   6.6\n",
              "130   3.9\n",
              "135   5.5\n",
              "Name: CO2_EMISSIONS_CURRENT, dtype: float64"
            ]
          },
          "metadata": {},
          "execution_count": 30
        }
      ]
    },
    {
      "cell_type": "code",
      "metadata": {
        "colab": {
          "base_uri": "https://localhost:8080/"
        },
        "id": "Pba9pChO70O_",
        "outputId": "f699ab5f-fa6f-4a69-e2e5-9e673aa46fda"
      },
      "source": [
        "my_model.weights"
      ],
      "execution_count": null,
      "outputs": [
        {
          "output_type": "execute_result",
          "data": {
            "text/plain": [
              "[<tf.Variable 'sequential/Hidden1/kernel:0' shape=(361, 20) dtype=float32, numpy=\n",
              " array([[-0.07901116, -0.01634619,  0.11309946, ..., -0.22451201,\n",
              "         -0.00866703,  0.03404789],\n",
              "        [ 0.05209169, -0.06951572, -0.00051758, ..., -0.17863595,\n",
              "         -0.14314811, -0.13074501],\n",
              "        [ 0.0217011 , -0.04553892, -0.03567323, ..., -0.11080847,\n",
              "         -0.03581765,  0.11151148],\n",
              "        ...,\n",
              "        [ 0.04052401, -0.04815585,  0.00519395, ..., -0.03773271,\n",
              "         -0.19173448, -0.05047416],\n",
              "        [ 0.12099226,  0.05704279, -0.01673468, ..., -0.25500524,\n",
              "         -0.00114664, -0.10223341],\n",
              "        [-0.03061439, -0.11688136, -0.00193564, ..., -0.09413279,\n",
              "         -0.0918299 , -0.02701622]], dtype=float32)>,\n",
              " <tf.Variable 'sequential/Hidden1/bias:0' shape=(20,) dtype=float32, numpy=\n",
              " array([-0.05140034, -0.07189146,  0.        , -0.06457499, -0.14285801,\n",
              "        -0.06735725, -0.14566313, -0.05961913, -0.11601472, -0.04454363,\n",
              "        -0.12027173, -0.15896267, -0.23903462, -0.07943781,  0.        ,\n",
              "         0.        , -0.02858165, -0.1321311 , -0.09867939, -0.10123233],\n",
              "       dtype=float32)>,\n",
              " <tf.Variable 'sequential/Hidden2/kernel:0' shape=(20, 12) dtype=float32, numpy=\n",
              " array([[-3.79682779e-01, -3.86775583e-01, -2.04732820e-01,\n",
              "         -3.55462730e-02,  4.10990089e-01, -1.92916393e-01,\n",
              "         -9.83813107e-02,  1.29632264e-01, -2.88411379e-01,\n",
              "         -3.43967199e-01, -3.76433492e-01, -3.09875041e-01],\n",
              "        [-1.57082230e-01, -3.50720227e-01,  2.94731736e-01,\n",
              "          2.85146087e-01,  1.20618872e-01,  2.30061665e-01,\n",
              "         -4.15019721e-01,  2.10635394e-01, -3.76244038e-01,\n",
              "         -3.21999550e-01, -2.29059607e-01, -2.52530307e-01],\n",
              "        [-1.55330032e-01, -2.28807598e-01, -8.97181928e-02,\n",
              "         -1.50696933e-02,  7.02396929e-02, -3.00252616e-01,\n",
              "         -1.56974941e-01,  3.80909592e-01, -5.40706217e-02,\n",
              "          1.36451274e-01, -6.34159744e-02,  2.05714852e-01],\n",
              "        [-1.03455938e-01, -1.72988325e-01,  3.91989917e-01,\n",
              "          4.24420804e-01,  1.08522084e-03, -3.42930049e-01,\n",
              "          3.75572652e-01, -3.03520083e-01,  9.68447030e-02,\n",
              "          3.10763389e-01, -2.40362033e-01,  4.23240870e-01],\n",
              "        [ 2.35724106e-01, -1.93106249e-01,  1.70322403e-01,\n",
              "          1.59983993e-01, -7.20603168e-02,  2.64714688e-01,\n",
              "         -9.72827226e-02, -5.54063857e-01, -2.02763349e-01,\n",
              "         -2.63028771e-01, -6.27581000e-01,  6.02159984e-02],\n",
              "        [ 2.08679318e-01,  3.10548037e-01,  1.48836076e-01,\n",
              "          3.03898454e-02, -4.14766967e-01,  1.84320390e-01,\n",
              "          1.37643248e-01, -2.21419662e-01, -5.81654608e-02,\n",
              "          8.03818330e-02, -2.99193084e-01, -1.67027116e-02],\n",
              "        [-4.73041773e-01, -2.99607575e-01,  2.07771733e-01,\n",
              "         -3.73353988e-01,  3.08252305e-01, -3.16813812e-02,\n",
              "         -5.67946807e-02,  5.69264412e-01, -3.42051089e-02,\n",
              "         -2.09654316e-01, -6.33420348e-02,  1.53560698e-01],\n",
              "        [-1.38471544e-01,  2.27997929e-01, -4.26137656e-01,\n",
              "         -2.69848526e-01,  1.64923891e-01,  1.75113812e-01,\n",
              "          3.18722159e-01,  1.14617899e-01,  2.70443887e-01,\n",
              "          1.93029135e-01, -8.75332654e-02,  3.20239931e-01],\n",
              "        [-1.20739289e-01, -3.50224525e-01,  5.75060537e-03,\n",
              "         -1.40084282e-01,  3.95051837e-02, -4.72552665e-02,\n",
              "         -2.58175552e-01,  2.96358258e-01, -1.98182642e-01,\n",
              "          3.50285500e-01, -2.31335163e-02, -2.08606452e-01],\n",
              "        [-3.20615083e-01, -3.25789332e-01,  2.14284077e-01,\n",
              "         -1.90734670e-01, -1.50891960e-01,  3.55797969e-02,\n",
              "         -1.26419395e-01,  8.59424397e-02, -1.60607487e-01,\n",
              "         -4.03735042e-03,  2.43768781e-01, -6.61714971e-02],\n",
              "        [-1.13415115e-01, -4.15307552e-01,  2.33334959e-01,\n",
              "         -4.14411336e-01,  3.07423413e-01,  3.96196842e-01,\n",
              "          5.13935924e-01, -4.65994477e-01,  3.18907320e-01,\n",
              "         -1.42435163e-01, -1.76709533e-01,  2.10406393e-01],\n",
              "        [-1.89695448e-01,  2.92339355e-01,  3.20597589e-02,\n",
              "         -2.80591577e-01,  4.19663161e-01,  4.38141763e-01,\n",
              "         -3.58992040e-01,  7.54958093e-02,  2.50736415e-01,\n",
              "         -7.37862587e-02,  1.08633608e-01, -1.68067455e-01],\n",
              "        [ 8.22885633e-01, -5.71072102e-03,  6.66205883e-01,\n",
              "         -6.53570890e-01,  6.01924241e-01,  6.47017062e-01,\n",
              "         -2.64934659e-01,  1.04064083e+00, -2.00336412e-01,\n",
              "          5.30427277e-01,  9.80323732e-01, -5.52537620e-01],\n",
              "        [ 7.89652914e-02,  1.18999630e-01,  3.47509772e-01,\n",
              "          1.76106885e-01,  3.34349513e-01, -2.88675308e-01,\n",
              "          8.06622207e-02,  8.60419571e-02, -3.85554254e-01,\n",
              "          2.13975295e-01, -2.34853953e-01,  7.45235980e-02],\n",
              "        [ 7.75146782e-02,  2.70258874e-01,  2.22601146e-01,\n",
              "         -3.70230198e-01,  3.47650439e-01, -3.74718785e-01,\n",
              "          6.74912035e-02, -1.97301343e-01, -7.15357661e-02,\n",
              "         -5.21082878e-02, -9.53540206e-03, -2.13060081e-02],\n",
              "        [-1.54011846e-02, -7.75744617e-02, -4.22044963e-01,\n",
              "         -2.77122676e-01, -3.95814300e-01, -4.17934835e-01,\n",
              "          2.99830288e-01, -1.82834059e-01,  1.36895686e-01,\n",
              "         -2.66073316e-01,  3.56728464e-01,  2.98837215e-01],\n",
              "        [-2.67302603e-01, -1.44058883e-01, -3.05672526e-01,\n",
              "         -2.78311461e-01, -5.95975220e-01, -9.87733677e-02,\n",
              "         -1.60622954e-01, -1.56425703e+00, -4.13639814e-01,\n",
              "          5.38131356e-01, -8.45881522e-01,  1.71407834e-01],\n",
              "        [-2.43339762e-01, -9.92285460e-02,  2.92095035e-01,\n",
              "         -7.83028081e-02, -2.74113536e-01, -2.30830058e-01,\n",
              "          2.95724154e-01, -5.98364398e-02, -1.18863285e-02,\n",
              "         -1.87016234e-01, -3.32202911e-01, -3.18801433e-01],\n",
              "        [-1.39144659e-02, -4.08485770e-01, -2.41185069e-01,\n",
              "          2.62425274e-01,  1.73133180e-01, -2.12524861e-01,\n",
              "          3.93591762e-01, -7.57160261e-02,  1.75211981e-01,\n",
              "         -2.67623544e-01,  3.84932131e-01,  1.06910020e-01],\n",
              "        [-2.42498174e-01,  3.87642652e-01, -2.30721772e-01,\n",
              "          2.54618168e-01,  3.09567004e-01, -1.58155501e-01,\n",
              "          3.86762053e-01, -1.51606441e-01,  4.09585148e-01,\n",
              "         -8.69252682e-02, -4.16464120e-01,  3.76592487e-01]], dtype=float32)>,\n",
              " <tf.Variable 'sequential/Hidden2/bias:0' shape=(12,) dtype=float32, numpy=\n",
              " array([-0.01808663, -0.07187195, -0.9582594 , -0.25871798, -1.3121527 ,\n",
              "        -0.01672979, -0.06311955,  0.1847263 , -0.12845452,  1.5295448 ,\n",
              "        -1.2302859 ,  2.2419713 ], dtype=float32)>,\n",
              " <tf.Variable 'sequential/Output/kernel:0' shape=(12, 1) dtype=float32, numpy=\n",
              " array([[ 0.39679974],\n",
              "        [-0.0036585 ],\n",
              "        [ 0.2542    ],\n",
              "        [-0.13446385],\n",
              "        [ 0.23731758],\n",
              "        [ 0.4502719 ],\n",
              "        [ 0.1079238 ],\n",
              "        [-0.403782  ],\n",
              "        [-0.51781243],\n",
              "        [-0.41244027],\n",
              "        [-0.40473711],\n",
              "        [ 0.87216985]], dtype=float32)>,\n",
              " <tf.Variable 'sequential/Output/bias:0' shape=(1,) dtype=float32, numpy=array([0.08532942], dtype=float32)>]"
            ]
          },
          "metadata": {},
          "execution_count": 26
        }
      ]
    },
    {
      "cell_type": "code",
      "metadata": {
        "id": "CWTKkTW5A9pm"
      },
      "source": [
        ""
      ],
      "execution_count": null,
      "outputs": []
    },
    {
      "cell_type": "code",
      "metadata": {
        "id": "RCau48nJbjc0"
      },
      "source": [
        "my_model.save(\"/content/drive/My Drive/CO2_Model_C1.h5\")"
      ],
      "execution_count": null,
      "outputs": []
    },
    {
      "cell_type": "code",
      "metadata": {
        "id": "amR5tNXqbvZ0"
      },
      "source": [
        "#tf.keras.models.load_model()"
      ],
      "execution_count": null,
      "outputs": []
    }
  ]
}