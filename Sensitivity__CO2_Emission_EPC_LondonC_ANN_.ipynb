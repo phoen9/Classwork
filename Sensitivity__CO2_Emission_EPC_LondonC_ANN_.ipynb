{
  "nbformat": 4,
  "nbformat_minor": 0,
  "metadata": {
    "colab": {
      "name": "Sensitivity _CO2_Emission_EPC_LondonC_ANN_.ipynb",
      "provenance": [],
      "collapsed_sections": [],
      "authorship_tag": "ABX9TyPhzo2K7miOreDlJw5TbAdv",
      "include_colab_link": true
    },
    "kernelspec": {
      "name": "python3",
      "display_name": "Python 3"
    },
    "language_info": {
      "name": "python"
    },
    "widgets": {
      "application/vnd.jupyter.widget-state+json": {
        "d370e4e7fb8a4bf6a58890a77994141a": {
          "model_module": "@jupyter-widgets/controls",
          "model_name": "VBoxModel",
          "model_module_version": "1.5.0",
          "state": {
            "_view_name": "VBoxView",
            "_dom_classes": [],
            "_model_name": "VBoxModel",
            "_view_module": "@jupyter-widgets/controls",
            "_model_module_version": "1.5.0",
            "_view_count": null,
            "_view_module_version": "1.5.0",
            "box_style": "",
            "layout": "IPY_MODEL_e475a5ff88774f1282e4db05dba3724e",
            "_model_module": "@jupyter-widgets/controls",
            "children": [
              "IPY_MODEL_bea1da41a131465387a3f59a77141f77",
              "IPY_MODEL_2ba53013908a4650a8c90b23dd41e785"
            ]
          }
        },
        "e475a5ff88774f1282e4db05dba3724e": {
          "model_module": "@jupyter-widgets/base",
          "model_name": "LayoutModel",
          "model_module_version": "1.2.0",
          "state": {
            "_view_name": "LayoutView",
            "grid_template_rows": null,
            "right": null,
            "justify_content": null,
            "_view_module": "@jupyter-widgets/base",
            "overflow": null,
            "_model_module_version": "1.2.0",
            "_view_count": null,
            "flex_flow": null,
            "width": null,
            "min_width": null,
            "border": null,
            "align_items": null,
            "bottom": null,
            "_model_module": "@jupyter-widgets/base",
            "top": null,
            "grid_column": null,
            "overflow_y": null,
            "overflow_x": null,
            "grid_auto_flow": null,
            "grid_area": null,
            "grid_template_columns": null,
            "flex": null,
            "_model_name": "LayoutModel",
            "justify_items": null,
            "grid_row": null,
            "max_height": null,
            "align_content": null,
            "visibility": null,
            "align_self": null,
            "height": null,
            "min_height": null,
            "padding": null,
            "grid_auto_rows": null,
            "grid_gap": null,
            "max_width": null,
            "order": null,
            "_view_module_version": "1.2.0",
            "grid_template_areas": null,
            "object_position": null,
            "object_fit": null,
            "grid_auto_columns": null,
            "margin": null,
            "display": null,
            "left": null
          }
        },
        "bea1da41a131465387a3f59a77141f77": {
          "model_module": "@jupyter-widgets/controls",
          "model_name": "LabelModel",
          "model_module_version": "1.5.0",
          "state": {
            "_view_name": "LabelView",
            "style": "IPY_MODEL_6efa24d5839246c3840b2751802eb1eb",
            "_dom_classes": [],
            "description": "",
            "_model_name": "LabelModel",
            "placeholder": "​",
            "_view_module": "@jupyter-widgets/controls",
            "_model_module_version": "1.5.0",
            "value": " 0.02MB of 0.02MB uploaded (0.00MB deduped)\r",
            "_view_count": null,
            "_view_module_version": "1.5.0",
            "description_tooltip": null,
            "_model_module": "@jupyter-widgets/controls",
            "layout": "IPY_MODEL_9732e97767c242ceaf71559afce6c21c"
          }
        },
        "2ba53013908a4650a8c90b23dd41e785": {
          "model_module": "@jupyter-widgets/controls",
          "model_name": "FloatProgressModel",
          "model_module_version": "1.5.0",
          "state": {
            "_view_name": "ProgressView",
            "style": "IPY_MODEL_1f43182d21004777bbe353b0ade0b3a6",
            "_dom_classes": [],
            "description": "",
            "_model_name": "FloatProgressModel",
            "bar_style": "",
            "max": 1,
            "_view_module": "@jupyter-widgets/controls",
            "_model_module_version": "1.5.0",
            "value": 1,
            "_view_count": null,
            "_view_module_version": "1.5.0",
            "orientation": "horizontal",
            "min": 0,
            "description_tooltip": null,
            "_model_module": "@jupyter-widgets/controls",
            "layout": "IPY_MODEL_5415cf273b2247e6855dd18c70b80673"
          }
        },
        "6efa24d5839246c3840b2751802eb1eb": {
          "model_module": "@jupyter-widgets/controls",
          "model_name": "DescriptionStyleModel",
          "model_module_version": "1.5.0",
          "state": {
            "_view_name": "StyleView",
            "_model_name": "DescriptionStyleModel",
            "description_width": "",
            "_view_module": "@jupyter-widgets/base",
            "_model_module_version": "1.5.0",
            "_view_count": null,
            "_view_module_version": "1.2.0",
            "_model_module": "@jupyter-widgets/controls"
          }
        },
        "9732e97767c242ceaf71559afce6c21c": {
          "model_module": "@jupyter-widgets/base",
          "model_name": "LayoutModel",
          "model_module_version": "1.2.0",
          "state": {
            "_view_name": "LayoutView",
            "grid_template_rows": null,
            "right": null,
            "justify_content": null,
            "_view_module": "@jupyter-widgets/base",
            "overflow": null,
            "_model_module_version": "1.2.0",
            "_view_count": null,
            "flex_flow": null,
            "width": null,
            "min_width": null,
            "border": null,
            "align_items": null,
            "bottom": null,
            "_model_module": "@jupyter-widgets/base",
            "top": null,
            "grid_column": null,
            "overflow_y": null,
            "overflow_x": null,
            "grid_auto_flow": null,
            "grid_area": null,
            "grid_template_columns": null,
            "flex": null,
            "_model_name": "LayoutModel",
            "justify_items": null,
            "grid_row": null,
            "max_height": null,
            "align_content": null,
            "visibility": null,
            "align_self": null,
            "height": null,
            "min_height": null,
            "padding": null,
            "grid_auto_rows": null,
            "grid_gap": null,
            "max_width": null,
            "order": null,
            "_view_module_version": "1.2.0",
            "grid_template_areas": null,
            "object_position": null,
            "object_fit": null,
            "grid_auto_columns": null,
            "margin": null,
            "display": null,
            "left": null
          }
        },
        "1f43182d21004777bbe353b0ade0b3a6": {
          "model_module": "@jupyter-widgets/controls",
          "model_name": "ProgressStyleModel",
          "model_module_version": "1.5.0",
          "state": {
            "_view_name": "StyleView",
            "_model_name": "ProgressStyleModel",
            "description_width": "",
            "_view_module": "@jupyter-widgets/base",
            "_model_module_version": "1.5.0",
            "_view_count": null,
            "_view_module_version": "1.2.0",
            "bar_color": null,
            "_model_module": "@jupyter-widgets/controls"
          }
        },
        "5415cf273b2247e6855dd18c70b80673": {
          "model_module": "@jupyter-widgets/base",
          "model_name": "LayoutModel",
          "model_module_version": "1.2.0",
          "state": {
            "_view_name": "LayoutView",
            "grid_template_rows": null,
            "right": null,
            "justify_content": null,
            "_view_module": "@jupyter-widgets/base",
            "overflow": null,
            "_model_module_version": "1.2.0",
            "_view_count": null,
            "flex_flow": null,
            "width": null,
            "min_width": null,
            "border": null,
            "align_items": null,
            "bottom": null,
            "_model_module": "@jupyter-widgets/base",
            "top": null,
            "grid_column": null,
            "overflow_y": null,
            "overflow_x": null,
            "grid_auto_flow": null,
            "grid_area": null,
            "grid_template_columns": null,
            "flex": null,
            "_model_name": "LayoutModel",
            "justify_items": null,
            "grid_row": null,
            "max_height": null,
            "align_content": null,
            "visibility": null,
            "align_self": null,
            "height": null,
            "min_height": null,
            "padding": null,
            "grid_auto_rows": null,
            "grid_gap": null,
            "max_width": null,
            "order": null,
            "_view_module_version": "1.2.0",
            "grid_template_areas": null,
            "object_position": null,
            "object_fit": null,
            "grid_auto_columns": null,
            "margin": null,
            "display": null,
            "left": null
          }
        }
      }
    }
  },
  "cells": [
    {
      "cell_type": "markdown",
      "metadata": {
        "id": "view-in-github",
        "colab_type": "text"
      },
      "source": [
        "<a href=\"https://colab.research.google.com/github/phoen9/Classwork/blob/main/Sensitivity__CO2_Emission_EPC_LondonC_ANN_.ipynb\" target=\"_parent\"><img src=\"https://colab.research.google.com/assets/colab-badge.svg\" alt=\"Open In Colab\"/></a>"
      ]
    },
    {
      "cell_type": "markdown",
      "metadata": {
        "id": "ltGCAr6sFmP5"
      },
      "source": [
        "\n",
        "**Use the right version of Tensor flow**"
      ]
    },
    {
      "cell_type": "code",
      "metadata": {
        "id": "B1PxkaJjFeVT"
      },
      "source": [
        "#@title Run on TensorFlow 2.x\n",
        "%tensorflow_version 2.x\n",
        "from __future__ import absolute_import, division, print_function, unicode_literals"
      ],
      "execution_count": null,
      "outputs": []
    },
    {
      "cell_type": "code",
      "metadata": {
        "id": "Xvxmztv8hbtS"
      },
      "source": [
        "!pip install wandb -qqq\n",
        "import wandb"
      ],
      "execution_count": null,
      "outputs": []
    },
    {
      "cell_type": "markdown",
      "metadata": {
        "id": "B1-PgJV2FlDq"
      },
      "source": [
        "**Import relevant modules**"
      ]
    },
    {
      "cell_type": "code",
      "metadata": {
        "colab": {
          "base_uri": "https://localhost:8080/"
        },
        "id": "MqreXafNIiOX",
        "outputId": "91fdc46c-1b44-49a2-a9ba-77878e81abba"
      },
      "source": [
        "#@title Import relevant modules\n",
        "import numpy as np\n",
        "import pandas as pd\n",
        "import tensorflow as tf\n",
        "\n",
        "from tensorflow import feature_column\n",
        "from tensorflow.keras import layers\n",
        "from matplotlib import pyplot as plt\n",
        "import seaborn as sns\n",
        "\n",
        "# The following lines adjust the granularity of reporting. \n",
        "pd.options.display.max_rows = 10\n",
        "pd.options.display.float_format = \"{:.1f}\".format\n",
        "\n",
        "print(\"Imported modules.\")"
      ],
      "execution_count": null,
      "outputs": [
        {
          "output_type": "stream",
          "name": "stdout",
          "text": [
            "Imported modules.\n"
          ]
        }
      ]
    },
    {
      "cell_type": "code",
      "metadata": {
        "id": "9-XEa4Hrle7Y"
      },
      "source": [
        "from tensorflow.keras.callbacks import Callback\n",
        "from wandb.keras import WandbCallback\n",
        "import random\n",
        "import math\n"
      ],
      "execution_count": null,
      "outputs": []
    },
    {
      "cell_type": "markdown",
      "metadata": {
        "id": "FqMEmnJaJSpA"
      },
      "source": [
        "**Allow access to files on google drive**"
      ]
    },
    {
      "cell_type": "code",
      "metadata": {
        "colab": {
          "base_uri": "https://localhost:8080/"
        },
        "id": "CAPogIe8JT04",
        "outputId": "44814580-445f-4e73-8c81-56a099e0d264"
      },
      "source": [
        "from google.colab import drive\n",
        "drive.mount('/content/drive')"
      ],
      "execution_count": null,
      "outputs": [
        {
          "output_type": "stream",
          "name": "stdout",
          "text": [
            "Drive already mounted at /content/drive; to attempt to forcibly remount, call drive.mount(\"/content/drive\", force_remount=True).\n"
          ]
        }
      ]
    },
    {
      "cell_type": "code",
      "metadata": {
        "colab": {
          "base_uri": "https://localhost:8080/"
        },
        "id": "bHLFYRsuhlc1",
        "outputId": "4d72378a-66fc-4b5a-8f7b-3e9582141549"
      },
      "source": [
        "# Log in to your W&B account\n",
        "wandb.login()"
      ],
      "execution_count": null,
      "outputs": [
        {
          "output_type": "stream",
          "name": "stderr",
          "text": [
            "\u001b[34m\u001b[1mwandb\u001b[0m: Currently logged in as: \u001b[33messienai\u001b[0m (use `wandb login --relogin` to force relogin)\n"
          ]
        },
        {
          "output_type": "execute_result",
          "data": {
            "text/plain": [
              "True"
            ]
          },
          "metadata": {},
          "execution_count": 6
        }
      ]
    },
    {
      "cell_type": "markdown",
      "metadata": {
        "id": "oZAk7rckKY00"
      },
      "source": [
        "**Load the Dataset**"
      ]
    },
    {
      "cell_type": "code",
      "metadata": {
        "id": "GnrDuRyGKfAo"
      },
      "source": [
        "Data=pd.read_csv('/content/drive/My Drive/EPC_Londonc.csv') #to load data from my google drive"
      ],
      "execution_count": null,
      "outputs": []
    },
    {
      "cell_type": "code",
      "metadata": {
        "colab": {
          "base_uri": "https://localhost:8080/"
        },
        "id": "VPrjJr9sKxzo",
        "outputId": "dec4c51a-406b-4d43-b593-03c92c2e067e"
      },
      "source": [
        "training_data = Data.sample(frac=0.8, random_state=25)\n",
        "testing_data = Data.drop(training_data.index)\n",
        "\n",
        "print(f\"No. of training examples: {training_data.shape[0]}\")\n",
        "print(f\"No. of testing examples: {testing_data.shape[0]}\")"
      ],
      "execution_count": null,
      "outputs": [
        {
          "output_type": "stream",
          "name": "stdout",
          "text": [
            "No. of training examples: 443215\n",
            "No. of testing examples: 110804\n"
          ]
        }
      ]
    },
    {
      "cell_type": "code",
      "metadata": {
        "colab": {
          "base_uri": "https://localhost:8080/",
          "height": 445
        },
        "id": "TAKb2m8QRvMn",
        "outputId": "814cbdb3-e6f8-4b58-bb31-adf3c4900d05"
      },
      "source": [
        "training_data.head()"
      ],
      "execution_count": null,
      "outputs": [
        {
          "output_type": "execute_result",
          "data": {
            "text/html": [
              "<div>\n",
              "<style scoped>\n",
              "    .dataframe tbody tr th:only-of-type {\n",
              "        vertical-align: middle;\n",
              "    }\n",
              "\n",
              "    .dataframe tbody tr th {\n",
              "        vertical-align: top;\n",
              "    }\n",
              "\n",
              "    .dataframe thead th {\n",
              "        text-align: right;\n",
              "    }\n",
              "</style>\n",
              "<table border=\"1\" class=\"dataframe\">\n",
              "  <thead>\n",
              "    <tr style=\"text-align: right;\">\n",
              "      <th></th>\n",
              "      <th>CURRENT_ENERGY_RATING</th>\n",
              "      <th>PROPERTY_TYPE</th>\n",
              "      <th>BUILT_FORM</th>\n",
              "      <th>ENVIRONMENT_IMPACT_CURRENT</th>\n",
              "      <th>ENERGY_CONSUMPTION_CURRENT</th>\n",
              "      <th>CO2_EMISSIONS_CURRENT</th>\n",
              "      <th>TOTAL_FLOOR_AREA</th>\n",
              "      <th>MAINS_GAS_FLAG</th>\n",
              "      <th>GLAZED_AREA</th>\n",
              "      <th>FLOOR_DESCRIPTION</th>\n",
              "      <th>WINDOWS_DESCRIPTION</th>\n",
              "      <th>WINDOWS_ENERGY_EFF</th>\n",
              "      <th>WALLS_DESCRIPTION</th>\n",
              "      <th>WALLS_ENERGY_EFF</th>\n",
              "      <th>ROOF_DESCRIPTION</th>\n",
              "      <th>MAIN_FUEL</th>\n",
              "      <th>FLOOR_HEIGHT</th>\n",
              "      <th>VOLUME</th>\n",
              "      <th>MECHANICAL_VENTILATION</th>\n",
              "      <th>CONSTRUCTION_AGE_BAND</th>\n",
              "    </tr>\n",
              "  </thead>\n",
              "  <tbody>\n",
              "    <tr>\n",
              "      <th>35080</th>\n",
              "      <td>C</td>\n",
              "      <td>House</td>\n",
              "      <td>Mid-Terrace</td>\n",
              "      <td>69</td>\n",
              "      <td>164</td>\n",
              "      <td>4.0</td>\n",
              "      <td>126.4</td>\n",
              "      <td>Y</td>\n",
              "      <td>Normal</td>\n",
              "      <td>Solid, no insulation (assumed)</td>\n",
              "      <td>Fully double glazed</td>\n",
              "      <td>Average</td>\n",
              "      <td>Cavity wall, as built, partial insulation (ass...</td>\n",
              "      <td>Average</td>\n",
              "      <td>Pitched, 100 mm loft insulation</td>\n",
              "      <td>mains gas (not community)</td>\n",
              "      <td>2.3</td>\n",
              "      <td>289.4</td>\n",
              "      <td>natural</td>\n",
              "      <td>F</td>\n",
              "    </tr>\n",
              "    <tr>\n",
              "      <th>194484</th>\n",
              "      <td>C</td>\n",
              "      <td>Maisonette</td>\n",
              "      <td>Detached</td>\n",
              "      <td>70</td>\n",
              "      <td>217</td>\n",
              "      <td>2.7</td>\n",
              "      <td>75.1</td>\n",
              "      <td>Y</td>\n",
              "      <td>Normal</td>\n",
              "      <td>(other premises below)</td>\n",
              "      <td>Fully double glazed</td>\n",
              "      <td>Average</td>\n",
              "      <td>System built, as built, no insulation (assumed)</td>\n",
              "      <td>Very Poor</td>\n",
              "      <td>Pitched, 200mm loft insulation</td>\n",
              "      <td>mains gas - this is for backwards compatibilit...</td>\n",
              "      <td>2.4</td>\n",
              "      <td>180.2</td>\n",
              "      <td>natural</td>\n",
              "      <td>E</td>\n",
              "    </tr>\n",
              "    <tr>\n",
              "      <th>397850</th>\n",
              "      <td>D</td>\n",
              "      <td>Flat</td>\n",
              "      <td>Detached</td>\n",
              "      <td>53</td>\n",
              "      <td>307</td>\n",
              "      <td>4.0</td>\n",
              "      <td>67.7</td>\n",
              "      <td>Y</td>\n",
              "      <td>Normal</td>\n",
              "      <td>(other premises below)</td>\n",
              "      <td>Fully double glazed</td>\n",
              "      <td>Good</td>\n",
              "      <td>Solid brick, as built, no insulation (assumed)</td>\n",
              "      <td>Very Poor</td>\n",
              "      <td>Pitched, no insulation(assumed)</td>\n",
              "      <td>mains gas (not community)</td>\n",
              "      <td>2.6</td>\n",
              "      <td>176.0</td>\n",
              "      <td>natural</td>\n",
              "      <td>B</td>\n",
              "    </tr>\n",
              "    <tr>\n",
              "      <th>299929</th>\n",
              "      <td>F</td>\n",
              "      <td>Flat</td>\n",
              "      <td>Detached</td>\n",
              "      <td>26</td>\n",
              "      <td>972</td>\n",
              "      <td>5.7</td>\n",
              "      <td>38.7</td>\n",
              "      <td>N</td>\n",
              "      <td>Normal</td>\n",
              "      <td>Solid, no insulation (assumed)</td>\n",
              "      <td>Some double glazing</td>\n",
              "      <td>Poor</td>\n",
              "      <td>Solid brick, as built, no insulation (assumed)</td>\n",
              "      <td>Very Poor</td>\n",
              "      <td>(another dwelling above)</td>\n",
              "      <td>electricity - this is for backwards compatibil...</td>\n",
              "      <td>2.5</td>\n",
              "      <td>96.8</td>\n",
              "      <td>natural</td>\n",
              "      <td>B</td>\n",
              "    </tr>\n",
              "    <tr>\n",
              "      <th>163219</th>\n",
              "      <td>C</td>\n",
              "      <td>Flat</td>\n",
              "      <td>Mid-Terrace</td>\n",
              "      <td>77</td>\n",
              "      <td>201</td>\n",
              "      <td>1.6</td>\n",
              "      <td>46.8</td>\n",
              "      <td>Y</td>\n",
              "      <td>Normal</td>\n",
              "      <td>(other premises below)</td>\n",
              "      <td>Fully double glazed</td>\n",
              "      <td>Average</td>\n",
              "      <td>Solid brick, as built, no insulation (assumed)</td>\n",
              "      <td>Very Poor</td>\n",
              "      <td>(another dwelling above)</td>\n",
              "      <td>mains gas - this is for backwards compatibilit...</td>\n",
              "      <td>2.4</td>\n",
              "      <td>112.3</td>\n",
              "      <td>natural</td>\n",
              "      <td>C</td>\n",
              "    </tr>\n",
              "  </tbody>\n",
              "</table>\n",
              "</div>"
            ],
            "text/plain": [
              "       CURRENT_ENERGY_RATING  ... CONSTRUCTION_AGE_BAND\n",
              "35080                      C  ...                     F\n",
              "194484                     C  ...                     E\n",
              "397850                     D  ...                     B\n",
              "299929                     F  ...                     B\n",
              "163219                     C  ...                     C\n",
              "\n",
              "[5 rows x 20 columns]"
            ]
          },
          "metadata": {},
          "execution_count": 9
        }
      ]
    },
    {
      "cell_type": "code",
      "metadata": {
        "colab": {
          "base_uri": "https://localhost:8080/",
          "height": 204
        },
        "id": "eRGgsI9yRw0n",
        "outputId": "4cc9fb41-ad15-43b4-a7cb-93e25c0df01e"
      },
      "source": [
        "train_df=training_data[['ENVIRONMENT_IMPACT_CURRENT','ENERGY_CONSUMPTION_CURRENT','CO2_EMISSIONS_CURRENT','TOTAL_FLOOR_AREA','FLOOR_HEIGHT','VOLUME']]\n",
        "test_df=testing_data[['ENVIRONMENT_IMPACT_CURRENT','ENERGY_CONSUMPTION_CURRENT','CO2_EMISSIONS_CURRENT','TOTAL_FLOOR_AREA','FLOOR_HEIGHT','VOLUME']]\n",
        "train_df_cat=training_data[['CURRENT_ENERGY_RATING','PROPERTY_TYPE','BUILT_FORM','MAINS_GAS_FLAG','GLAZED_AREA','WINDOWS_ENERGY_EFF','WALLS_ENERGY_EFF','MAIN_FUEL','MECHANICAL_VENTILATION','CONSTRUCTION_AGE_BAND']]\n",
        "test_df_cat=testing_data[['CURRENT_ENERGY_RATING','PROPERTY_TYPE','BUILT_FORM','MAINS_GAS_FLAG','GLAZED_AREA','WINDOWS_ENERGY_EFF','WALLS_ENERGY_EFF','MAIN_FUEL','MECHANICAL_VENTILATION','CONSTRUCTION_AGE_BAND']]\n",
        "train_df.head()"
      ],
      "execution_count": null,
      "outputs": [
        {
          "output_type": "execute_result",
          "data": {
            "text/html": [
              "<div>\n",
              "<style scoped>\n",
              "    .dataframe tbody tr th:only-of-type {\n",
              "        vertical-align: middle;\n",
              "    }\n",
              "\n",
              "    .dataframe tbody tr th {\n",
              "        vertical-align: top;\n",
              "    }\n",
              "\n",
              "    .dataframe thead th {\n",
              "        text-align: right;\n",
              "    }\n",
              "</style>\n",
              "<table border=\"1\" class=\"dataframe\">\n",
              "  <thead>\n",
              "    <tr style=\"text-align: right;\">\n",
              "      <th></th>\n",
              "      <th>ENVIRONMENT_IMPACT_CURRENT</th>\n",
              "      <th>ENERGY_CONSUMPTION_CURRENT</th>\n",
              "      <th>CO2_EMISSIONS_CURRENT</th>\n",
              "      <th>TOTAL_FLOOR_AREA</th>\n",
              "      <th>FLOOR_HEIGHT</th>\n",
              "      <th>VOLUME</th>\n",
              "    </tr>\n",
              "  </thead>\n",
              "  <tbody>\n",
              "    <tr>\n",
              "      <th>35080</th>\n",
              "      <td>69</td>\n",
              "      <td>164</td>\n",
              "      <td>4.0</td>\n",
              "      <td>126.4</td>\n",
              "      <td>2.3</td>\n",
              "      <td>289.4</td>\n",
              "    </tr>\n",
              "    <tr>\n",
              "      <th>194484</th>\n",
              "      <td>70</td>\n",
              "      <td>217</td>\n",
              "      <td>2.7</td>\n",
              "      <td>75.1</td>\n",
              "      <td>2.4</td>\n",
              "      <td>180.2</td>\n",
              "    </tr>\n",
              "    <tr>\n",
              "      <th>397850</th>\n",
              "      <td>53</td>\n",
              "      <td>307</td>\n",
              "      <td>4.0</td>\n",
              "      <td>67.7</td>\n",
              "      <td>2.6</td>\n",
              "      <td>176.0</td>\n",
              "    </tr>\n",
              "    <tr>\n",
              "      <th>299929</th>\n",
              "      <td>26</td>\n",
              "      <td>972</td>\n",
              "      <td>5.7</td>\n",
              "      <td>38.7</td>\n",
              "      <td>2.5</td>\n",
              "      <td>96.8</td>\n",
              "    </tr>\n",
              "    <tr>\n",
              "      <th>163219</th>\n",
              "      <td>77</td>\n",
              "      <td>201</td>\n",
              "      <td>1.6</td>\n",
              "      <td>46.8</td>\n",
              "      <td>2.4</td>\n",
              "      <td>112.3</td>\n",
              "    </tr>\n",
              "  </tbody>\n",
              "</table>\n",
              "</div>"
            ],
            "text/plain": [
              "        ENVIRONMENT_IMPACT_CURRENT  ...  VOLUME\n",
              "35080                           69  ...   289.4\n",
              "194484                          70  ...   180.2\n",
              "397850                          53  ...   176.0\n",
              "299929                          26  ...    96.8\n",
              "163219                          77  ...   112.3\n",
              "\n",
              "[5 rows x 6 columns]"
            ]
          },
          "metadata": {},
          "execution_count": 10
        }
      ]
    },
    {
      "cell_type": "markdown",
      "metadata": {
        "id": "A94a4lrwSNyj"
      },
      "source": [
        "**Normalize the Values**"
      ]
    },
    {
      "cell_type": "code",
      "metadata": {
        "colab": {
          "base_uri": "https://localhost:8080/"
        },
        "id": "50GH5INqSKxf",
        "outputId": "0b728009-8f59-4123-c15a-67afe216bf1f"
      },
      "source": [
        "#@title Convert raw values to their Z-scores \n",
        "\n",
        "# Calculate the Z-scores of each column in the training set:\n",
        "train_df_mean = train_df.mean()\n",
        "train_df_std = train_df.std()\n",
        "train_df_norm = (train_df - train_df_mean)/train_df_std\n",
        "\n",
        "# Calculate the Z-scores of each column in the test set.\n",
        "test_df_mean = test_df.mean()\n",
        "test_df_std = test_df.std()\n",
        "test_df_norm = (test_df - test_df_mean)/test_df_std\n",
        "\n",
        "print(\"Normalized the values.\")"
      ],
      "execution_count": null,
      "outputs": [
        {
          "output_type": "stream",
          "name": "stdout",
          "text": [
            "Normalized the values.\n"
          ]
        }
      ]
    },
    {
      "cell_type": "code",
      "metadata": {
        "colab": {
          "base_uri": "https://localhost:8080/",
          "height": 204
        },
        "id": "Dj3ijrHQSZIG",
        "outputId": "1a5272d4-40ff-47b3-b358-16bc20753220"
      },
      "source": [
        "train_df_norm.head()"
      ],
      "execution_count": null,
      "outputs": [
        {
          "output_type": "execute_result",
          "data": {
            "text/html": [
              "<div>\n",
              "<style scoped>\n",
              "    .dataframe tbody tr th:only-of-type {\n",
              "        vertical-align: middle;\n",
              "    }\n",
              "\n",
              "    .dataframe tbody tr th {\n",
              "        vertical-align: top;\n",
              "    }\n",
              "\n",
              "    .dataframe thead th {\n",
              "        text-align: right;\n",
              "    }\n",
              "</style>\n",
              "<table border=\"1\" class=\"dataframe\">\n",
              "  <thead>\n",
              "    <tr style=\"text-align: right;\">\n",
              "      <th></th>\n",
              "      <th>ENVIRONMENT_IMPACT_CURRENT</th>\n",
              "      <th>ENERGY_CONSUMPTION_CURRENT</th>\n",
              "      <th>CO2_EMISSIONS_CURRENT</th>\n",
              "      <th>TOTAL_FLOOR_AREA</th>\n",
              "      <th>FLOOR_HEIGHT</th>\n",
              "      <th>VOLUME</th>\n",
              "    </tr>\n",
              "  </thead>\n",
              "  <tbody>\n",
              "    <tr>\n",
              "      <th>35080</th>\n",
              "      <td>0.5</td>\n",
              "      <td>-1.0</td>\n",
              "      <td>0.3</td>\n",
              "      <td>1.5</td>\n",
              "      <td>-0.7</td>\n",
              "      <td>1.1</td>\n",
              "    </tr>\n",
              "    <tr>\n",
              "      <th>194484</th>\n",
              "      <td>0.6</td>\n",
              "      <td>-0.6</td>\n",
              "      <td>-0.3</td>\n",
              "      <td>0.2</td>\n",
              "      <td>-0.4</td>\n",
              "      <td>0.1</td>\n",
              "    </tr>\n",
              "    <tr>\n",
              "      <th>397850</th>\n",
              "      <td>-0.6</td>\n",
              "      <td>0.0</td>\n",
              "      <td>0.3</td>\n",
              "      <td>-0.0</td>\n",
              "      <td>0.2</td>\n",
              "      <td>0.0</td>\n",
              "    </tr>\n",
              "    <tr>\n",
              "      <th>299929</th>\n",
              "      <td>-2.6</td>\n",
              "      <td>4.8</td>\n",
              "      <td>1.0</td>\n",
              "      <td>-0.8</td>\n",
              "      <td>-0.1</td>\n",
              "      <td>-0.7</td>\n",
              "    </tr>\n",
              "    <tr>\n",
              "      <th>163219</th>\n",
              "      <td>1.1</td>\n",
              "      <td>-0.7</td>\n",
              "      <td>-0.8</td>\n",
              "      <td>-0.6</td>\n",
              "      <td>-0.4</td>\n",
              "      <td>-0.6</td>\n",
              "    </tr>\n",
              "  </tbody>\n",
              "</table>\n",
              "</div>"
            ],
            "text/plain": [
              "        ENVIRONMENT_IMPACT_CURRENT  ...  VOLUME\n",
              "35080                          0.5  ...     1.1\n",
              "194484                         0.6  ...     0.1\n",
              "397850                        -0.6  ...     0.0\n",
              "299929                        -2.6  ...    -0.7\n",
              "163219                         1.1  ...    -0.6\n",
              "\n",
              "[5 rows x 6 columns]"
            ]
          },
          "metadata": {},
          "execution_count": 12
        }
      ]
    },
    {
      "cell_type": "code",
      "metadata": {
        "id": "FvWACZQ4SipD"
      },
      "source": [
        "# Create an empty list that will eventually hold all created feature columns.\n",
        "feature_columns = []\n",
        "\n",
        "# It scaled all the columns\n",
        "# Z scores. \n",
        "# to use resolution_in_Zs.  A resolution_in_Zs of 1 corresponds to \n",
        "# a full standard deviation. \n",
        "resolution_in_Zs = 0.3  # 3/10 of a standard deviation.\n",
        "\n",
        "# numeric cols\n",
        "for header in [\"TOTAL_FLOOR_AREA\",\"FLOOR_HEIGHT\",\"VOLUME\"]:\n",
        "  feature_columns.append(feature_column.numeric_column(header))\n",
        "\n",
        "# indicator_columns\n",
        "indicator_column_names = ['PROPERTY_TYPE','BUILT_FORM','GLAZED_AREA','FLOOR_DESCRIPTION','WINDOWS_DESCRIPTION','WINDOWS_ENERGY_EFF','WALLS_DESCRIPTION','WALLS_ENERGY_EFF','ROOF_DESCRIPTION','MAIN_FUEL','CONSTRUCTION_AGE_BAND']\n",
        "for col_name in indicator_column_names:\n",
        "  categorical_column = feature_column.categorical_column_with_vocabulary_list(\n",
        "      col_name, Data[col_name].unique())\n",
        "  indicator_column = feature_column.indicator_column(categorical_column)\n",
        "  feature_columns.append(indicator_column)\n",
        "\n",
        "\n",
        "# crossed columns\n",
        "Volume_type_feature = feature_column.crossed_column(['TOTAL_FLOOR_AREA','FLOOR_HEIGHT'], hash_bucket_size=100)\n",
        "feature_columns.append(feature_column.indicator_column(Volume_type_feature))\n",
        "\n",
        "\n",
        "# Convert the list of feature columns into a layer that will later be fed into\n",
        "# the model. \n",
        "my_feature_layer = tf.keras.layers.DenseFeatures(feature_columns)"
      ],
      "execution_count": null,
      "outputs": []
    },
    {
      "cell_type": "markdown",
      "metadata": {
        "id": "CpO-1HXRS_xS"
      },
      "source": [
        "**Deep neural network**"
      ]
    },
    {
      "cell_type": "code",
      "metadata": {
        "id": "aHzKKa-3TCGy"
      },
      "source": [
        "\n",
        "def create_model(my_learning_rate, my_feature_layer):\n",
        "  \"\"\"Create and compile a simple linear regression model.\"\"\"\n",
        "  # Most simple tf.keras models are sequential.\n",
        "  model = tf.keras.models.Sequential()\n",
        "\n",
        "  # Add the layer containing the feature columns to the model.\n",
        "  model.add(my_feature_layer)\n",
        "\n",
        "  # Describe the topography of the model by calling the tf.keras.layers.Dense\n",
        "  # method once for each layer. We've specified the following arguments:\n",
        "  #   * units specifies the number of nodes in this layer.\n",
        "  #   * activation specifies the activation function (Rectified Linear Unit).\n",
        "  #   * name is just a string that can be useful when debugging.\n",
        "\n",
        "  # Define the first hidden layer with 20 nodes.   \n",
        "  model.add(tf.keras.layers.Dense(units=20, \n",
        "                                  activation='relu', \n",
        "                                  name='Hidden1'))\n",
        "  \n",
        "  # Define the second hidden layer with 12 nodes. \n",
        "  model.add(tf.keras.layers.Dense(units=12, \n",
        "                                  activation='relu', \n",
        "                                  name='Hidden2'))\n",
        "  \n",
        "  \n",
        "  # Define the output layer.\n",
        "  model.add(tf.keras.layers.Dense(units=1,  \n",
        "                                  name='Output'))                              \n",
        "  \n",
        "  model.compile(optimizer=tf.keras.optimizers.Adam(lr=my_learning_rate),\n",
        "                loss=\"mean_squared_error\",\n",
        "                metrics=[tf.keras.metrics.MeanSquaredError()])\n",
        "\n",
        "  return model"
      ],
      "execution_count": null,
      "outputs": []
    },
    {
      "cell_type": "markdown",
      "metadata": {
        "id": "7i532Rp0T57w"
      },
      "source": [
        "**Define training function**"
      ]
    },
    {
      "cell_type": "code",
      "metadata": {
        "id": "6PnfmQKlUJpK"
      },
      "source": [
        "def train_model(model, dataset, epochs, label_name,\n",
        "                batch_size=None):\n",
        "  \"\"\"Train the model by feeding it data.\"\"\"\n",
        "\n",
        "  # Split the dataset into features and label.\n",
        "  features = {name:np.array(value) for name, value in dataset.items()}\n",
        "  label = np.array(features.pop(label_name))\n",
        "  history = model.fit(x=features, y=label, batch_size=batch_size,\n",
        "                      epochs=epochs, shuffle=True, callbacks=[WandbCallback()]) \n",
        "\n",
        "  # The list of epochs is stored separately from the rest of history.\n",
        "  epochs = history.epoch\n",
        "  \n",
        "  # To track the progression of training, gather a snapshot\n",
        "  # of the model's mean squared error at each epoch. \n",
        "  hist = pd.DataFrame(history.history)\n",
        "  mse = hist[\"mean_squared_error\"]\n",
        "\n",
        "  return epochs, mse"
      ],
      "execution_count": null,
      "outputs": []
    },
    {
      "cell_type": "markdown",
      "metadata": {
        "id": "cxgZDlfpflH_"
      },
      "source": [
        "**Define the plotting function**"
      ]
    },
    {
      "cell_type": "code",
      "metadata": {
        "colab": {
          "base_uri": "https://localhost:8080/"
        },
        "id": "q8sJWIohf44h",
        "outputId": "6b051cb8-6dac-4740-98ea-40066e9b573a"
      },
      "source": [
        "#@title Define the plotting function.\n",
        "\n",
        "def plot_the_loss_curve(epochs, mse):\n",
        "  \"\"\"Plot a curve of loss vs. epoch.\"\"\"\n",
        "\n",
        "  plt.figure()\n",
        "  plt.xlabel(\"Epoch\")\n",
        "  plt.ylabel(\"Mean Squared Error\")\n",
        "\n",
        "  plt.plot(epochs, mse, label=\"Loss\")\n",
        "  plt.legend()\n",
        "  plt.ylim([mse.min()*0.95, mse.max() * 1.03])\n",
        "  plt.show()  \n",
        "\n",
        "print(\"Defined the plot_the_loss_curve function.\")"
      ],
      "execution_count": null,
      "outputs": [
        {
          "output_type": "stream",
          "name": "stdout",
          "text": [
            "Defined the plot_the_loss_curve function.\n"
          ]
        }
      ]
    },
    {
      "cell_type": "code",
      "metadata": {
        "id": "pTv255XCBOyB"
      },
      "source": [
        "\n"
      ],
      "execution_count": null,
      "outputs": []
    },
    {
      "cell_type": "markdown",
      "metadata": {
        "id": "0VBKH9DpXqyU"
      },
      "source": [
        "**Call functions to build and train Neural Network**"
      ]
    },
    {
      "cell_type": "code",
      "metadata": {
        "colab": {
          "base_uri": "https://localhost:8080/",
          "height": 1000,
          "referenced_widgets": [
            "d370e4e7fb8a4bf6a58890a77994141a",
            "e475a5ff88774f1282e4db05dba3724e",
            "bea1da41a131465387a3f59a77141f77",
            "2ba53013908a4650a8c90b23dd41e785",
            "6efa24d5839246c3840b2751802eb1eb",
            "9732e97767c242ceaf71559afce6c21c",
            "1f43182d21004777bbe353b0ade0b3a6",
            "5415cf273b2247e6855dd18c70b80673"
          ]
        },
        "id": "NEchj9TDXzcn",
        "outputId": "1e41302e-3329-4ba7-f902-f95e53d37a28"
      },
      "source": [
        " wandb.init(\n",
        "      project=\"CO2_Sensitivity\",\n",
        "      # Set entity to specify your username or team name\n",
        "      # ex: entity=\"carey\",\n",
        "      config={\n",
        "          \"layer_1\": 20,\n",
        "          \"activation_1\": \"relu\",\n",
        "          \"dropout\": random.uniform(0.01, 0.80),\n",
        "          \"layer_2\": 12,\n",
        "          \"activation_2\": \"softmax\",\n",
        "          \"optimizer\": \"sgd\",\n",
        "          \"loss\": \"sparse_categorical_crossentropy\",\n",
        "          \"metric\": \"accuracy\",\n",
        "          \"epoch\": 15,\n",
        "          \"learning_rate\":0.01,\n",
        "          \"batch_size\": 1000\n",
        "      })\n",
        "config = wandb.config\n",
        "\n",
        "# The following variables are the hyperparameters.\n",
        "learning_rate = config.learning_rate\n",
        "epochs = config.epoch\n",
        "batch_size = config.batch_size\n",
        "\n",
        "# Specify the label\n",
        "label_name = \"CO2_EMISSIONS_CURRENT\"\n",
        "\n",
        "# Establish the model's topography.\n",
        "my_model = create_model(learning_rate, my_feature_layer)\n",
        "\n",
        "# Train the model on the normalized training set. We're passing the entire\n",
        "# normalized training set, but the model will only use the features\n",
        "# defined by the feature_layer.\n",
        "epochs, mse = train_model(my_model, training_data, epochs, \n",
        "                          label_name, batch_size)\n",
        "plot_the_loss_curve(epochs, mse)\n",
        "\n",
        "# After building a model against the training set, test that model\n",
        "# against the test set.\n",
        "test_features = {name:np.array(value) for name, value in testing_data.items()}\n",
        "test_label = np.array(test_features.pop(label_name)) # isolate the label\n",
        "print(\"\\n Evaluate the new model against the test set:\")\n",
        "my_model.evaluate(x = test_features, y = test_label, batch_size=batch_size)\n",
        "\n",
        "# 3. Log metrics over time to visualize performance\n",
        "for i in range (10):\n",
        "    wandb.log({\"loss\":\"mean_squared_error\"})\n",
        "\n",
        "  # Mark the run as finished\n",
        "wandb.finish()\n"
      ],
      "execution_count": null,
      "outputs": [
        {
          "output_type": "display_data",
          "data": {
            "text/html": [
              "\n",
              "                Tracking run with wandb version 0.12.2<br/>\n",
              "                Syncing run <strong style=\"color:#cdcd00\">worthy-star-17</strong> to <a href=\"https://wandb.ai\" target=\"_blank\">Weights & Biases</a> <a href=\"https://docs.wandb.com/integrations/jupyter.html\" target=\"_blank\">(Documentation)</a>.<br/>\n",
              "                Project page: <a href=\"https://wandb.ai/essienai/CO2_Sensitivity\" target=\"_blank\">https://wandb.ai/essienai/CO2_Sensitivity</a><br/>\n",
              "                Run page: <a href=\"https://wandb.ai/essienai/CO2_Sensitivity/runs/23tl9h9e\" target=\"_blank\">https://wandb.ai/essienai/CO2_Sensitivity/runs/23tl9h9e</a><br/>\n",
              "                Run data is saved locally in <code>/content/wandb/run-20210918_140006-23tl9h9e</code><br/><br/>\n",
              "            "
            ],
            "text/plain": [
              "<IPython.core.display.HTML object>"
            ]
          },
          "metadata": {}
        },
        {
          "output_type": "stream",
          "name": "stderr",
          "text": [
            "/usr/local/lib/python3.7/dist-packages/keras/optimizer_v2/optimizer_v2.py:356: UserWarning: The `lr` argument is deprecated, use `learning_rate` instead.\n",
            "  \"The `lr` argument is deprecated, use `learning_rate` instead.\")\n"
          ]
        },
        {
          "output_type": "stream",
          "name": "stdout",
          "text": [
            "Epoch 1/15\n",
            "WARNING:tensorflow:Layers in a Sequential model should only have a single input tensor, but we receive a <class 'dict'> input: {'CURRENT_ENERGY_RATING': <tf.Tensor 'ExpandDims_2:0' shape=(None, 1) dtype=string>, 'PROPERTY_TYPE': <tf.Tensor 'ExpandDims_11:0' shape=(None, 1) dtype=string>, 'BUILT_FORM': <tf.Tensor 'ExpandDims:0' shape=(None, 1) dtype=string>, 'ENVIRONMENT_IMPACT_CURRENT': <tf.Tensor 'ExpandDims_4:0' shape=(None, 1) dtype=int64>, 'ENERGY_CONSUMPTION_CURRENT': <tf.Tensor 'ExpandDims_3:0' shape=(None, 1) dtype=int64>, 'TOTAL_FLOOR_AREA': <tf.Tensor 'ExpandDims_13:0' shape=(None, 1) dtype=float32>, 'MAINS_GAS_FLAG': <tf.Tensor 'ExpandDims_8:0' shape=(None, 1) dtype=string>, 'GLAZED_AREA': <tf.Tensor 'ExpandDims_7:0' shape=(None, 1) dtype=string>, 'FLOOR_DESCRIPTION': <tf.Tensor 'ExpandDims_5:0' shape=(None, 1) dtype=string>, 'WINDOWS_DESCRIPTION': <tf.Tensor 'ExpandDims_17:0' shape=(None, 1) dtype=string>, 'WINDOWS_ENERGY_EFF': <tf.Tensor 'ExpandDims_18:0' shape=(None, 1) dtype=string>, 'WALLS_DESCRIPTION': <tf.Tensor 'ExpandDims_15:0' shape=(None, 1) dtype=string>, 'WALLS_ENERGY_EFF': <tf.Tensor 'ExpandDims_16:0' shape=(None, 1) dtype=string>, 'ROOF_DESCRIPTION': <tf.Tensor 'ExpandDims_12:0' shape=(None, 1) dtype=string>, 'MAIN_FUEL': <tf.Tensor 'ExpandDims_9:0' shape=(None, 1) dtype=string>, 'FLOOR_HEIGHT': <tf.Tensor 'ExpandDims_6:0' shape=(None, 1) dtype=float32>, 'VOLUME': <tf.Tensor 'ExpandDims_14:0' shape=(None, 1) dtype=float32>, 'MECHANICAL_VENTILATION': <tf.Tensor 'ExpandDims_10:0' shape=(None, 1) dtype=string>, 'CONSTRUCTION_AGE_BAND': <tf.Tensor 'ExpandDims_1:0' shape=(None, 1) dtype=string>}\n",
            "Consider rewriting this model with the Functional API.\n",
            "WARNING:tensorflow:Layers in a Sequential model should only have a single input tensor, but we receive a <class 'dict'> input: {'CURRENT_ENERGY_RATING': <tf.Tensor 'ExpandDims_2:0' shape=(None, 1) dtype=string>, 'PROPERTY_TYPE': <tf.Tensor 'ExpandDims_11:0' shape=(None, 1) dtype=string>, 'BUILT_FORM': <tf.Tensor 'ExpandDims:0' shape=(None, 1) dtype=string>, 'ENVIRONMENT_IMPACT_CURRENT': <tf.Tensor 'ExpandDims_4:0' shape=(None, 1) dtype=int64>, 'ENERGY_CONSUMPTION_CURRENT': <tf.Tensor 'ExpandDims_3:0' shape=(None, 1) dtype=int64>, 'TOTAL_FLOOR_AREA': <tf.Tensor 'ExpandDims_13:0' shape=(None, 1) dtype=float32>, 'MAINS_GAS_FLAG': <tf.Tensor 'ExpandDims_8:0' shape=(None, 1) dtype=string>, 'GLAZED_AREA': <tf.Tensor 'ExpandDims_7:0' shape=(None, 1) dtype=string>, 'FLOOR_DESCRIPTION': <tf.Tensor 'ExpandDims_5:0' shape=(None, 1) dtype=string>, 'WINDOWS_DESCRIPTION': <tf.Tensor 'ExpandDims_17:0' shape=(None, 1) dtype=string>, 'WINDOWS_ENERGY_EFF': <tf.Tensor 'ExpandDims_18:0' shape=(None, 1) dtype=string>, 'WALLS_DESCRIPTION': <tf.Tensor 'ExpandDims_15:0' shape=(None, 1) dtype=string>, 'WALLS_ENERGY_EFF': <tf.Tensor 'ExpandDims_16:0' shape=(None, 1) dtype=string>, 'ROOF_DESCRIPTION': <tf.Tensor 'ExpandDims_12:0' shape=(None, 1) dtype=string>, 'MAIN_FUEL': <tf.Tensor 'ExpandDims_9:0' shape=(None, 1) dtype=string>, 'FLOOR_HEIGHT': <tf.Tensor 'ExpandDims_6:0' shape=(None, 1) dtype=float32>, 'VOLUME': <tf.Tensor 'ExpandDims_14:0' shape=(None, 1) dtype=float32>, 'MECHANICAL_VENTILATION': <tf.Tensor 'ExpandDims_10:0' shape=(None, 1) dtype=string>, 'CONSTRUCTION_AGE_BAND': <tf.Tensor 'ExpandDims_1:0' shape=(None, 1) dtype=string>}\n",
            "Consider rewriting this model with the Functional API.\n",
            "444/444 [==============================] - 34s 73ms/step - loss: 2.1671 - mean_squared_error: 2.1671\n",
            "Epoch 2/15\n",
            "444/444 [==============================] - 34s 76ms/step - loss: 1.2373 - mean_squared_error: 1.2373\n",
            "Epoch 3/15\n",
            "444/444 [==============================] - 33s 75ms/step - loss: 1.2178 - mean_squared_error: 1.2178\n",
            "Epoch 4/15\n",
            "444/444 [==============================] - 32s 73ms/step - loss: 1.1394 - mean_squared_error: 1.1394\n",
            "Epoch 5/15\n",
            "444/444 [==============================] - 32s 71ms/step - loss: 1.0855 - mean_squared_error: 1.0855\n",
            "Epoch 6/15\n",
            "444/444 [==============================] - 34s 77ms/step - loss: 1.1050 - mean_squared_error: 1.1050\n",
            "Epoch 7/15\n",
            "444/444 [==============================] - 34s 77ms/step - loss: 1.0482 - mean_squared_error: 1.0482\n",
            "Epoch 8/15\n",
            "444/444 [==============================] - 34s 78ms/step - loss: 1.0801 - mean_squared_error: 1.0801\n",
            "Epoch 9/15\n",
            "444/444 [==============================] - 34s 76ms/step - loss: 1.0803 - mean_squared_error: 1.0803\n",
            "Epoch 10/15\n",
            "444/444 [==============================] - 34s 76ms/step - loss: 1.0531 - mean_squared_error: 1.0531\n",
            "Epoch 11/15\n",
            "444/444 [==============================] - 34s 78ms/step - loss: 1.0505 - mean_squared_error: 1.0505\n",
            "Epoch 12/15\n",
            "444/444 [==============================] - 31s 69ms/step - loss: 1.0212 - mean_squared_error: 1.0212\n",
            "Epoch 13/15\n",
            "444/444 [==============================] - 30s 68ms/step - loss: 1.0887 - mean_squared_error: 1.0887\n",
            "Epoch 14/15\n",
            "444/444 [==============================] - 31s 69ms/step - loss: 1.0593 - mean_squared_error: 1.0593\n",
            "Epoch 15/15\n",
            "444/444 [==============================] - 30s 67ms/step - loss: 1.0423 - mean_squared_error: 1.0423\n"
          ]
        },
        {
          "output_type": "display_data",
          "data": {
            "image/png": "[encoded data removed]",
            "text/plain": [
              "<Figure size 432x288 with 1 Axes>"
            ]
          },
          "metadata": {
            "needs_background": "light"
          }
        },
        {
          "output_type": "stream",
          "name": "stdout",
          "text": [
            "\n",
            " Evaluate the new model against the test set:\n",
            "WARNING:tensorflow:Layers in a Sequential model should only have a single input tensor, but we receive a <class 'dict'> input: {'CURRENT_ENERGY_RATING': <tf.Tensor 'ExpandDims_2:0' shape=(None, 1) dtype=string>, 'PROPERTY_TYPE': <tf.Tensor 'ExpandDims_11:0' shape=(None, 1) dtype=string>, 'BUILT_FORM': <tf.Tensor 'ExpandDims:0' shape=(None, 1) dtype=string>, 'ENVIRONMENT_IMPACT_CURRENT': <tf.Tensor 'ExpandDims_4:0' shape=(None, 1) dtype=int64>, 'ENERGY_CONSUMPTION_CURRENT': <tf.Tensor 'ExpandDims_3:0' shape=(None, 1) dtype=int64>, 'TOTAL_FLOOR_AREA': <tf.Tensor 'ExpandDims_13:0' shape=(None, 1) dtype=float32>, 'MAINS_GAS_FLAG': <tf.Tensor 'ExpandDims_8:0' shape=(None, 1) dtype=string>, 'GLAZED_AREA': <tf.Tensor 'ExpandDims_7:0' shape=(None, 1) dtype=string>, 'FLOOR_DESCRIPTION': <tf.Tensor 'ExpandDims_5:0' shape=(None, 1) dtype=string>, 'WINDOWS_DESCRIPTION': <tf.Tensor 'ExpandDims_17:0' shape=(None, 1) dtype=string>, 'WINDOWS_ENERGY_EFF': <tf.Tensor 'ExpandDims_18:0' shape=(None, 1) dtype=string>, 'WALLS_DESCRIPTION': <tf.Tensor 'ExpandDims_15:0' shape=(None, 1) dtype=string>, 'WALLS_ENERGY_EFF': <tf.Tensor 'ExpandDims_16:0' shape=(None, 1) dtype=string>, 'ROOF_DESCRIPTION': <tf.Tensor 'ExpandDims_12:0' shape=(None, 1) dtype=string>, 'MAIN_FUEL': <tf.Tensor 'ExpandDims_9:0' shape=(None, 1) dtype=string>, 'FLOOR_HEIGHT': <tf.Tensor 'ExpandDims_6:0' shape=(None, 1) dtype=float32>, 'VOLUME': <tf.Tensor 'ExpandDims_14:0' shape=(None, 1) dtype=float32>, 'MECHANICAL_VENTILATION': <tf.Tensor 'ExpandDims_10:0' shape=(None, 1) dtype=string>, 'CONSTRUCTION_AGE_BAND': <tf.Tensor 'ExpandDims_1:0' shape=(None, 1) dtype=string>}\n",
            "Consider rewriting this model with the Functional API.\n",
            "111/111 [==============================] - 3s 19ms/step - loss: 0.8981 - mean_squared_error: 0.8981\n"
          ]
        },
        {
          "output_type": "display_data",
          "data": {
            "text/html": [
              "<br/>Waiting for W&B process to finish, PID 3274<br/>Program ended successfully."
            ],
            "text/plain": [
              "<IPython.core.display.HTML object>"
            ]
          },
          "metadata": {}
        },
        {
          "output_type": "display_data",
          "data": {
            "application/vnd.jupyter.widget-view+json": {
              "model_id": "d370e4e7fb8a4bf6a58890a77994141a",
              "version_minor": 0,
              "version_major": 2
            },
            "text/plain": [
              "VBox(children=(Label(value=' 0.00MB of 0.00MB uploaded (0.00MB deduped)\\r'), FloatProgress(value=1.0, max=1.0)…"
            ]
          },
          "metadata": {}
        },
        {
          "output_type": "display_data",
          "data": {
            "text/html": [
              "Find user logs for this run at: <code>/content/wandb/run-20210918_140006-23tl9h9e/logs/debug.log</code>"
            ],
            "text/plain": [
              "<IPython.core.display.HTML object>"
            ]
          },
          "metadata": {}
        },
        {
          "output_type": "display_data",
          "data": {
            "text/html": [
              "Find internal logs for this run at: <code>/content/wandb/run-20210918_140006-23tl9h9e/logs/debug-internal.log</code>"
            ],
            "text/plain": [
              "<IPython.core.display.HTML object>"
            ]
          },
          "metadata": {}
        },
        {
          "output_type": "display_data",
          "data": {
            "text/html": [
              "<h3>Run summary:</h3><br/><style>\n",
              "    table.wandb td:nth-child(1) { padding: 0 10px; text-align: right }\n",
              "    </style><table class=\"wandb\">\n",
              "<tr><td>epoch</td><td>14</td></tr><tr><td>loss</td><td>mean_squared_error</td></tr><tr><td>mean_squared_error</td><td>1.04227</td></tr></table>"
            ],
            "text/plain": [
              "<IPython.core.display.HTML object>"
            ]
          },
          "metadata": {}
        },
        {
          "output_type": "display_data",
          "data": {
            "text/html": [
              "<h3>Run history:</h3><br/><style>\n",
              "    table.wandb td:nth-child(1) { padding: 0 10px; text-align: right }\n",
              "    </style><table class=\"wandb\">\n",
              "<tr><td>epoch</td><td>▁▁▂▃▃▃▄▅▅▅▆▇▇▇█</td></tr><tr><td>loss</td><td>█▂▂▂▁▂▁▁▁▁▁▁▁▁▁</td></tr><tr><td>mean_squared_error</td><td>█▂▂▂▁▂▁▁▁▁▁▁▁▁▁</td></tr></table><br/>"
            ],
            "text/plain": [
              "<IPython.core.display.HTML object>"
            ]
          },
          "metadata": {}
        },
        {
          "output_type": "display_data",
          "data": {
            "text/html": [
              "Synced 5 W&B file(s), 1 media file(s), 0 artifact file(s) and 0 other file(s)"
            ],
            "text/plain": [
              "<IPython.core.display.HTML object>"
            ]
          },
          "metadata": {}
        },
        {
          "output_type": "display_data",
          "data": {
            "text/html": [
              "\n",
              "                    <br/>Synced <strong style=\"color:#cdcd00\">worthy-star-17</strong>: <a href=\"https://wandb.ai/essienai/CO2_Sensitivity/runs/23tl9h9e\" target=\"_blank\">https://wandb.ai/essienai/CO2_Sensitivity/runs/23tl9h9e</a><br/>\n",
              "                "
            ],
            "text/plain": [
              "<IPython.core.display.HTML object>"
            ]
          },
          "metadata": {}
        }
      ]
    }
  ]
}